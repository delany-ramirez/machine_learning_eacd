{
 "cells": [
  {
   "cell_type": "markdown",
   "id": "347a18d0",
   "metadata": {},
   "source": [
    "# Regresión Lineal Simple"
   ]
  },
  {
   "cell_type": "code",
   "execution_count": null,
   "id": "66ce8162",
   "metadata": {},
   "outputs": [],
   "source": [
    "# Librerías necesarias\n",
    "import numpy as np\n",
    "import pandas as pd\n",
    "import matplotlib.pyplot as plt\n",
    "from sklearn.model_selection import train_test_split\n",
    "from sklearn.linear_model import LinearRegression\n",
    "from sklearn.metrics import mean_squared_error, r2_score\n",
    "from sklearn.model_selection import KFold\n",
    "\n"
   ]
  },
  {
   "cell_type": "code",
   "execution_count": null,
   "id": "7fba3aef",
   "metadata": {},
   "outputs": [],
   "source": [
    "# Configuración inicial\n",
    "\n",
    "np.random.seed(42)\n",
    "n_samples = 100\n",
    "X = 2 * np.random.rand(n_samples, 1)\n",
    "y = 4 + 3 * X + np.random.randn(n_samples, 1)\n",
    "data = pd.DataFrame(data=np.hstack((X, y)), columns=['X', 'y'])\n"
   ]
  },
  {
   "cell_type": "code",
   "execution_count": null,
   "id": "2a5ce131",
   "metadata": {},
   "outputs": [],
   "source": [
    "# Visualización de los datos\n",
    "plt.scatter(data['X'], data['y'])\n",
    "plt.xlabel('X')\n",
    "plt.ylabel('y')\n",
    "plt.title('Datos Sintéticos para Regresión Lineal Simple')\n",
    "plt.show()"
   ]
  },
  {
   "cell_type": "code",
   "execution_count": null,
   "id": "5d56b762",
   "metadata": {},
   "outputs": [],
   "source": [
    "# Recta lineal de ejemplo generada manualmente\n",
    "plt.scatter(data['X'], data['y'])\n",
    "plt.plot([0, 2], [4, 10], color='red', linestyle='--')\n",
    "plt.xlabel('X')\n",
    "plt.ylabel('y')\n",
    "plt.title('Ejemplo de Regresión Lineal')\n",
    "plt.show()"
   ]
  },
  {
   "cell_type": "code",
   "execution_count": null,
   "id": "601fe672",
   "metadata": {},
   "outputs": [],
   "source": [
    "# Visualización de los residuos de la línea dibujada manualmente\n",
    "for i in range(len(data)):\n",
    "    plt.plot([data['X'][i], data['X'][i]], [data['y'][i], 4 + 3 * data['X'][i]], color='gray', linestyle='--', linewidth=0.5)\n",
    "plt.scatter(data['X'], data['y'])\n",
    "plt.plot([0, 2], [4, 10], color='red', linestyle='--')\n",
    "plt.xlabel('X')\n",
    "plt.ylabel('y')\n",
    "plt.title('Ejemplo de Regresión Lineal con Residuos')\n",
    "plt.show()"
   ]
  },
  {
   "cell_type": "code",
   "execution_count": null,
   "id": "88b71497",
   "metadata": {},
   "outputs": [],
   "source": [
    "# Suma de los errores al cuadrado (SSE) a la linea que dibujamos\n",
    "sse = np.sum((data['y'] - (4 + 3 * data['X']))**2)\n",
    "print(f'Suma de los errores al cuadrado (SSE) para la línea dibujada: {sse:.2f}')\n"
   ]
  },
  {
   "cell_type": "code",
   "execution_count": null,
   "id": "2d544126",
   "metadata": {},
   "outputs": [],
   "source": [
    "# Mejor línea de ajuste usando regresión lineal de sklearn vs la línea dibujada manualmente\n",
    "model = LinearRegression()\n",
    "model.fit(data[['X']], data['y'])\n",
    "y_pred = model.predict(data[['X']])\n",
    "plt.scatter(data['X'], data['y'])\n",
    "plt.plot(data['X'], y_pred, color='blue', label='Mejor ajuste (Regresión Lineal)')\n",
    "plt.plot([0, 2], [4, 10], color='red', linestyle='--', label='Línea dibujada inicialmente')\n",
    "plt.xlabel('X')\n",
    "plt.ylabel('y')\n",
    "plt.title('Mejor Ajuste vs Línea Dibujada')\n",
    "plt.legend()\n",
    "plt.show()\n"
   ]
  },
  {
   "cell_type": "code",
   "execution_count": null,
   "id": "968236e5",
   "metadata": {},
   "outputs": [],
   "source": [
    "# Comparación SSE de la línea dibujada vs la recta de mejor ajuste\n",
    "sse_best = np.sum((data['y'] - y_pred)**2)\n",
    "\n",
    "print(f'Suma de los errores al cuadrado (SSE) para la línea dibujada: {sse:.2f}')\n",
    "print(f'Suma de los errores al cuadrado (SSE) para la mejor línea de ajuste: {sse_best:.2f}')\n",
    "print(f'Reducción en SSE al usar la mejor línea de ajuste: {sse - sse_best:.2f}')\n"
   ]
  },
  {
   "cell_type": "code",
   "execution_count": null,
   "id": "bd2cd923",
   "metadata": {},
   "outputs": [],
   "source": [
    "# Residuos para la mejor línea de ajuste\n",
    "residuals = data['y'] - y_pred\n",
    "plt.scatter(data['X'], residuals)\n",
    "plt.axhline(0, color='red', linestyle='--')\n",
    "plt.xlabel('X')\n",
    "plt.ylabel('Residuos')\n",
    "plt.title('Residuos de la Mejor Línea de Ajuste')\n",
    "plt.show()\n"
   ]
  },
  {
   "cell_type": "code",
   "execution_count": null,
   "id": "383eec8c",
   "metadata": {},
   "outputs": [],
   "source": [
    "# Verificación de suspuestos de los residuos\n",
    "\n",
    "# 1. Promedio de los residuos es cero\n",
    "print(f'Promedio de los residuos: {np.mean(residuals):.2f}')\n",
    "\n",
    "# 2. Varianza de los residuos es constante (homocedasticidad)\n",
    "print(f'Varianza de los residuos: {np.var(residuals):.2f}')\n",
    "\n",
    "# 3. Los residuos siguen una distribución normal (se puede verificar con un histograma o un Q-Q plot)\n",
    "plt.hist(residuals, bins=15, edgecolor='k', alpha=0.7)\n",
    "plt.xlabel('Residuos')\n",
    "plt.ylabel('Frecuencia')\n",
    "plt.title('Histograma de los Residuos')\n",
    "plt.show()\n",
    "\n"
   ]
  },
  {
   "cell_type": "code",
   "execution_count": null,
   "id": "29fde47a",
   "metadata": {},
   "outputs": [],
   "source": [
    "# División del dataset en conjunto de entrenamiento y prueba\n",
    "X_train, X_test, y_train, y_test = train_test_split(data[['X']], data['y'], test_size=0.2, random_state=42)\n",
    "print(f'Tamaño del conjunto de entrenamiento: {X_train.shape[0]} muestras')\n",
    "print(f'Tamaño del conjunto de prueba: {X_test.shape[0]} muestras')\n"
   ]
  },
  {
   "cell_type": "code",
   "execution_count": null,
   "id": "45d8f374",
   "metadata": {},
   "outputs": [],
   "source": [
    "# Ajuste del modelo de regresión lineal al conjunto de entrenamiento\n",
    "model = LinearRegression()\n",
    "model.fit(X_train, y_train)\n",
    "\n",
    "# Predicciones en el conjunto de prueba\n",
    "y_pred_test = model.predict(X_test)\n",
    "\n",
    "# Evaluación del modelo\n",
    "mse = mean_squared_error(y_test, y_pred_test)\n",
    "r2 = r2_score(y_test, y_pred_test)\n",
    "print(f'Mean Squared Error (MSE) en el conjunto de prueba: {mse:.2f}')\n",
    "print(f'R² en el conjunto de prueba: {r2:.2f}')\n",
    "\n",
    "# Visualización de las predicciones vs valores reales en el conjunto de prueba\n",
    "plt.scatter(X_test, y_test, color='blue', label='Valores Reales')\n",
    "plt.scatter(X_test, y_pred_test, color='red', label='Predicciones', marker='x')\n",
    "plt.xlabel('X')\n",
    "plt.ylabel('y')\n",
    "plt.title('Predicciones vs Valores Reales en el Conjunto de Prueba')\n",
    "plt.legend()\n",
    "plt.show()\n"
   ]
  },
  {
   "cell_type": "code",
   "execution_count": null,
   "id": "4a0dcae3",
   "metadata": {},
   "outputs": [],
   "source": [
    "# Línea desde la recta de mejor ajuste y el conjunto de prueba\n",
    "\n",
    "for i in range(len(X_test)):\n",
    "    plt.plot([X_test.iloc[i, 0], X_test.iloc[i, 0]], [y_test.iloc[i], y_pred_test[i]], color='gray', linestyle='--', linewidth=0.5)\n",
    "plt.scatter(X_test, y_test, color='blue', label='Valores Reales')\n",
    "plt.scatter(X_train, y_train, color='lightgray', label='Datos de Entrenamiento', alpha=0.5)\n",
    "plt.plot(data['X'], y_pred, color='blue', label='Mejor ajuste (Regresión Lineal)')\n",
    "plt.xlabel('X')\n",
    "plt.ylabel('y')\n",
    "plt.title('Predicciones vs Valores Reales en el Conjunto de Prueba')\n",
    "plt.legend()\n",
    "plt.show()\n",
    "\n"
   ]
  },
  {
   "cell_type": "code",
   "execution_count": null,
   "id": "03152229",
   "metadata": {},
   "outputs": [],
   "source": [
    "# Comparativa entre métricas calculadas en el conjunto de prueba y el conjunto de entrenamiento\n",
    "mse_train = mean_squared_error(y_train, model.predict(X_train))\n",
    "r2_train = r2_score(y_train, model.predict(X_train))\n",
    "print(f'Mean Squared Error (MSE) en el conjunto de entrenamiento: {mse_train:.2f}')\n",
    "print(f'R² en el conjunto de entrenamiento: {r2_train:.2f}')\n",
    "print(f'Mean Squared Error (MSE) en el conjunto de prueba: {mse:.2f}')\n",
    "print(f'R² en el conjunto de prueba: {r2:.2f}')\n"
   ]
  },
  {
   "cell_type": "code",
   "execution_count": null,
   "id": "ac0d03da",
   "metadata": {},
   "outputs": [],
   "source": [
    "# Grafico del ground truth vs las predicciones del conjunto de prueba\n",
    "plt.scatter(y_pred_test, y_test, color='blue', label='Valores Reales')\n",
    "plt.xlabel('Predicted Values')\n",
    "plt.ylabel('Ground Truth')\n",
    "plt.title('Predicciones vs Valores Reales en el Conjunto de Prueba')\n",
    "plt.plot([min(y_test), max(y_test)], [min(y_test), max(y_test )], color='red', linestyle='--', label='y = x')\n",
    "plt.legend()\n",
    "plt.show()\n"
   ]
  },
  {
   "cell_type": "code",
   "execution_count": null,
   "id": "76f00f1a",
   "metadata": {},
   "outputs": [],
   "source": [
    "# Visualización del R^2 en la regresión lineal\n",
    "plt.scatter(data['X'], data['y'], label='Datos Reales')\n",
    "# Dibujo de la media de y\n",
    "plt.axhline(y=np.mean(data['y']), color='green', linestyle='--',\n",
    "            label='Media de y')\n",
    "# Para uno de los puntos arbitrarios, dibuja la línea desde el punto hasta la media de y y desde el punto hasta la predicción\n",
    "for i in range(len(data)):\n",
    "    plt.plot([data['X'][i], data['X'][i]], [data['y'][i], np.mean(data['y'])], color='orange', linestyle='--', linewidth=0.5)\n",
    "    plt.plot([data['X'][i], data['X'][i]], [data['y'][i], y_pred[i]], color='gray', linestyle='--', linewidth=0.5)\n",
    "\n",
    "plt.plot(data['X'], y_pred, color='blue', label='Mejor ajuste (Regresión Lineal)')\n",
    "plt.xlabel('X')\n",
    "plt.ylabel('y')\n",
    "plt.title('Visualización del R² en la Regresión Lineal')\n",
    "plt.legend()\n",
    "plt.show()"
   ]
  },
  {
   "cell_type": "code",
   "execution_count": null,
   "id": "450dfe5e",
   "metadata": {},
   "outputs": [],
   "source": [
    "# Ejecución de un cross-validation con K-Fold de 5 pliegues y cálculo de la métrica MSE para cada pliegue\n",
    "kf = KFold(n_splits=5, shuffle=True, random_state=42)\n",
    "mse_scores = []\n",
    "r2_scores = []\n",
    "for train_index, test_index in kf.split(data):\n",
    "    X_train_kf, X_test_kf = data[['X']].iloc[train_index], data[['X']].iloc[test_index]\n",
    "    y_train_kf, y_test_kf = data['y'].iloc[train_index], data['y'].iloc[test_index]\n",
    "    model_kf = LinearRegression()\n",
    "    model_kf.fit(X_train_kf, y_train_kf)\n",
    "    y_pred_kf = model_kf.predict(X_test_kf)\n",
    "    mse_kf = mean_squared_error(y_test_kf, y_pred_kf)\n",
    "    mse_scores.append(mse_kf)\n",
    "    r2_kf = r2_score(y_test_kf, y_pred_kf)\n",
    "    r2_scores.append(r2_kf)\n",
    "print(f'MSE para cada pliegue: {mse_scores}')\n",
    "print(f'MSE promedio en los 5 pliegues: {np.mean(mse_scores):.2f}')\n",
    "\n",
    "print(f'\\n')\n",
    "\n",
    "# R^2 para cada pliegue    \n",
    "print(f'R^2 para cada pliegue: {r2_scores}')\n",
    "print(f'R^2 promedio en los 5 pliegues: {np.mean(r2_scores):.2f}')\n",
    "\n",
    "# Grafico comparativo de los MSE en cada pliegue\n",
    "plt.bar(range(1, 6), mse_scores, color='skyblue')\n",
    "plt.axhline(y=np.mean(mse_scores), color='red', linestyle='--', label='MSE Promedio')\n",
    "plt.xlabel('Pliegue')\n",
    "plt.ylabel('Mean Squared Error (MSE)')\n",
    "plt.title('MSE en cada pliegue del K-Fold Cross-Validation')\n",
    "plt.xticks(range(1, 6))\n",
    "plt.ylim(0, max(mse_scores) + 1)\n",
    "plt.show()\n",
    "\n",
    "# Grafico comparativo de los R^2 en cada pliegue\n",
    "plt.bar(range(1, 6), r2_scores, color='lightgreen')\n",
    "\n",
    "plt.axhline(y=np.mean(r2_scores), color='red', linestyle='--', label='R² Promedio')\n",
    "plt.xlabel('Pliegue')\n",
    "plt.ylabel('R^2 Score')\n",
    "plt.title('R^2 en cada pliegue del K-Fold Cross-Validation')\n",
    "plt.xticks(range(1, 6))\n",
    "plt.ylim(0, 1)\n",
    "plt.show()"
   ]
  }
 ],
 "metadata": {
  "kernelspec": {
   "display_name": "streamlit",
   "language": "python",
   "name": "python3"
  },
  "language_info": {
   "codemirror_mode": {
    "name": "ipython",
    "version": 3
   },
   "file_extension": ".py",
   "mimetype": "text/x-python",
   "name": "python",
   "nbconvert_exporter": "python",
   "pygments_lexer": "ipython3",
   "version": "3.13.2"
  }
 },
 "nbformat": 4,
 "nbformat_minor": 5
}
