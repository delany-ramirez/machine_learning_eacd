{
 "cells": [
  {
   "cell_type": "markdown",
   "metadata": {
    "id": "xYcxfmmi9ybW"
   },
   "source": [
    "# Arboles de Decisión\n",
    "\n",
    "**Dataset Utilizado:** Titanic Dataset (predicción de supervivencia).\n",
    "\n",
    "**Carga y Preprocesamiento de Datos:**"
   ]
  },
  {
   "cell_type": "code",
   "execution_count": null,
   "metadata": {
    "colab": {
     "base_uri": "https://localhost:8080/"
    },
    "executionInfo": {
     "elapsed": 2699,
     "status": "ok",
     "timestamp": 1748569000034,
     "user": {
      "displayName": "Delany Ramirez Del Río",
      "userId": "00157053603326049407"
     },
     "user_tz": 300
    },
    "id": "b8-Eq41z9vjK",
    "outputId": "c7cab1ea-19b0-475a-a408-5776b1ba7750"
   },
   "outputs": [],
   "source": [
    "import pandas as pd\n",
    "from sklearn.model_selection import train_test_split\n",
    "from sklearn.preprocessing import LabelEncoder\n",
    "from sklearn.tree import DecisionTreeClassifier\n",
    "from sklearn.metrics import classification_report, confusion_matrix\n",
    "\n",
    "# Cargar el dataset\n",
    "df = pd.read_csv('titanic.csv')\n",
    "\n",
    "# Seleccionar características relevantes\n",
    "features = ['Pclass', 'Sex', 'Age', 'Fare', 'Embarked']\n",
    "df = df[features + ['Survived']]\n",
    "\n",
    "# Manejar valores faltantes\n",
    "df['Age'].fillna(df['Age'].median(), inplace=True)\n",
    "df['Embarked'].fillna(df['Embarked'].mode()[0], inplace=True)\n",
    "\n",
    "# Codificar variables categóricas\n",
    "label_encoders = {}\n",
    "for column in ['Sex', 'Embarked']:\n",
    "    le = LabelEncoder()\n",
    "    df[column] = le.fit_transform(df[column])\n",
    "    label_encoders[column] = le\n",
    "\n",
    "# Separar características y variable objetivo\n",
    "X = df[features]\n",
    "y = df['Survived']\n",
    "\n",
    "# División en entrenamiento y prueba\n",
    "X_train, X_test, y_train, y_test = train_test_split(\n",
    "    X, y, test_size=0.2, random_state=42, stratify=y)\n"
   ]
  },
  {
   "cell_type": "markdown",
   "metadata": {
    "id": "f51opk_A-MPS"
   },
   "source": [
    "**Entrenamiento del Modelo:**"
   ]
  },
  {
   "cell_type": "code",
   "execution_count": null,
   "metadata": {
    "colab": {
     "base_uri": "https://localhost:8080/",
     "height": 80
    },
    "executionInfo": {
     "elapsed": 34,
     "status": "ok",
     "timestamp": 1748569205340,
     "user": {
      "displayName": "Delany Ramirez Del Río",
      "userId": "00157053603326049407"
     },
     "user_tz": 300
    },
    "id": "ww2cv2p6-RLA",
    "outputId": "b7c9a2fc-059b-4d77-fc47-55e9eab72d40"
   },
   "outputs": [],
   "source": [
    "# Crear y entrenar el árbol de decisión\n",
    "tree = DecisionTreeClassifier(criterion='gini', max_depth=3, random_state=42)\n",
    "tree.fit(X_train, y_train)\n"
   ]
  },
  {
   "cell_type": "markdown",
   "metadata": {
    "id": "8x7YfqaM-UJo"
   },
   "source": [
    "**Visualización del Árbol:**"
   ]
  },
  {
   "cell_type": "code",
   "execution_count": null,
   "metadata": {
    "colab": {
     "base_uri": "https://localhost:8080/",
     "height": 438
    },
    "executionInfo": {
     "elapsed": 1110,
     "status": "ok",
     "timestamp": 1748569208577,
     "user": {
      "displayName": "Delany Ramirez Del Río",
      "userId": "00157053603326049407"
     },
     "user_tz": 300
    },
    "id": "RTN2xzHn-WiY",
    "outputId": "575bd784-6cf5-48a4-a7b4-b8ca9604b379"
   },
   "outputs": [],
   "source": [
    "from sklearn.tree import plot_tree\n",
    "import matplotlib.pyplot as plt\n",
    "\n",
    "plt.figure(figsize=(20,10))\n",
    "plot_tree(tree, feature_names=features, class_names=['No Survived', 'Survived'], filled=True)\n",
    "plt.show()\n"
   ]
  },
  {
   "cell_type": "markdown",
   "metadata": {
    "id": "GDkDp6ld-ayw"
   },
   "source": [
    "**Evaluación del Modelo:**"
   ]
  },
  {
   "cell_type": "code",
   "execution_count": null,
   "metadata": {
    "id": "MtqjSDFX-a-P"
   },
   "outputs": [],
   "source": [
    "y_pred_tree = tree.predict(X_test)\n",
    "print(\"Matriz de Confusión - Árbol de Decisión:\")\n",
    "print(confusion_matrix(y_test, y_pred_tree))\n",
    "print(\"\\nInforme de Clasificación:\")\n",
    "print(classification_report(y_test, y_pred_tree))\n"
   ]
  }
 ],
 "metadata": {
  "colab": {
   "authorship_tag": "ABX9TyMwnf67VqBnXw9bshVxIis/",
   "provenance": []
  },
  "kernelspec": {
   "display_name": "ML2",
   "language": "python",
   "name": "python3"
  },
  "language_info": {
   "codemirror_mode": {
    "name": "ipython",
    "version": 3
   },
   "file_extension": ".py",
   "mimetype": "text/x-python",
   "name": "python",
   "nbconvert_exporter": "python",
   "pygments_lexer": "ipython3",
   "version": "3.9.20"
  }
 },
 "nbformat": 4,
 "nbformat_minor": 0
}
