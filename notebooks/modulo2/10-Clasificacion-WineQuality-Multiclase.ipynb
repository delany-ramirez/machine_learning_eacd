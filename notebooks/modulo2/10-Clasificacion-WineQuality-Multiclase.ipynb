{
 "cells": [
  {
   "cell_type": "markdown",
   "id": "54758be4",
   "metadata": {},
   "source": [
    "\n",
    "# Sesión 08 — **Clasificación Multiclase** con Wine Quality (UCI)\n",
    "\n",
    "En esta versión predecimos la **calidad exacta** (`quality` de 3–9 típicamente) como problema **multiclase**.  \n",
    "Incluye: carga (red+white), EDA básica, *train/test* estratificado, estandarización, **LogReg**, **Árbol**, **Random Forest**, **SVM**, validación cruzada (macro-F1), **matriz de confusión**, **ROC OvR** y **importancia de variables**.\n",
    "\n",
    "> Requisitos: `pandas`, `numpy`, `scikit-learn`, `matplotlib`.\n"
   ]
  },
  {
   "cell_type": "markdown",
   "id": "48d0bba3",
   "metadata": {},
   "source": [
    "\n",
    "## 0) Datos esperados y fuentes UCI\n",
    "Este notebook espera los archivos:\n",
    "- `/mnt/data/winequality-red.csv`\n",
    "- `/mnt/data/winequality-white.csv`\n",
    "\n",
    "Fuentes (copiar/pegar en navegador si hace falta):\n",
    "- Red: https://archive.ics.uci.edu/ml/machine-learning-databases/wine-quality/winequality-red.csv\n",
    "- White: https://archive.ics.uci.edu/ml/machine-learning-databases/wine-quality/winequality-white.csv\n"
   ]
  },
  {
   "cell_type": "markdown",
   "id": "6dd6dd25",
   "metadata": {},
   "source": [
    "## 1) Importaciones"
   ]
  },
  {
   "cell_type": "code",
   "execution_count": null,
   "id": "a0358ce5",
   "metadata": {},
   "outputs": [],
   "source": [
    "\n",
    "# %%\n",
    "import numpy as np\n",
    "import pandas as pd\n",
    "import matplotlib.pyplot as plt\n",
    "from pathlib import Path\n",
    "\n",
    "from sklearn.model_selection import train_test_split, StratifiedKFold, cross_val_score\n",
    "from sklearn.preprocessing import StandardScaler, label_binarize\n",
    "from sklearn.pipeline import Pipeline\n",
    "from sklearn.metrics import (\n",
    "    accuracy_score, classification_report, confusion_matrix, ConfusionMatrixDisplay,\n",
    "    f1_score, roc_curve, auc\n",
    ")\n",
    "\n",
    "from sklearn.linear_model import LogisticRegression\n",
    "from sklearn.tree import DecisionTreeClassifier\n",
    "from sklearn.ensemble import RandomForestClassifier\n",
    "from sklearn.svm import SVC\n",
    "from sklearn.multiclass import OneVsRestClassifier\n",
    "\n",
    "pd.set_option('display.precision', 3)\n",
    "np.set_printoptions(precision=3, suppress=True)\n"
   ]
  },
  {
   "cell_type": "markdown",
   "id": "54018167",
   "metadata": {},
   "source": [
    "## 2) Carga y unión (red + white), preparación"
   ]
  },
  {
   "cell_type": "code",
   "execution_count": null,
   "id": "374b35bf",
   "metadata": {},
   "outputs": [],
   "source": [
    "\n",
    "# %%\n",
    "path_red = Path('data/winequality-red.csv')\n",
    "path_white = Path('data/winequality-white.csv')\n",
    "if not path_red.exists() or not path_white.exists():\n",
    "    raise FileNotFoundError(\"Descarga los CSV de UCI y colócalos en /mnt/data/.\")\n",
    "\n",
    "red = pd.read_csv(path_red, sep=';')\n",
    "white = pd.read_csv(path_white, sep=';')\n",
    "red['type'] = 'red'\n",
    "white['type'] = 'white'\n",
    "df = pd.concat([red, white], ignore_index=True)\n",
    "\n",
    "print(\"Shape:\", df.shape)\n",
    "df.head()\n"
   ]
  },
  {
   "cell_type": "markdown",
   "id": "1a6c94cb",
   "metadata": {},
   "source": [
    "## 3) Definición de objetivo multiclase y *features*"
   ]
  },
  {
   "cell_type": "code",
   "execution_count": null,
   "id": "c3cac247",
   "metadata": {},
   "outputs": [],
   "source": [
    "\n",
    "# %%\n",
    "# Objetivo multiclase: calidad exacta\n",
    "y = df['quality'].astype(int).copy()\n",
    "\n",
    "# Opcional: filtrar clases muy raras para estabilidad (mantener 3–8 típicamente)\n",
    "clases_presentes = y.value_counts().sort_index()\n",
    "print(\"Distribución de clases (quality):\")\n",
    "print(clases_presentes)\n",
    "\n",
    "# Features (incluye 'type' como dummies)\n",
    "X = df.drop(columns=['quality']).copy()\n",
    "X = pd.get_dummies(X, columns=['type'], drop_first=True)\n",
    "\n",
    "print(\"Dimensiones X:\", X.shape, \"| y:\", y.shape)\n"
   ]
  },
  {
   "cell_type": "markdown",
   "id": "4f0d970e",
   "metadata": {},
   "source": [
    "## 4) EDA rápida"
   ]
  },
  {
   "cell_type": "code",
   "execution_count": null,
   "id": "75368d8f",
   "metadata": {},
   "outputs": [],
   "source": [
    "\n",
    "# %%\n",
    "X.describe()\n"
   ]
  },
  {
   "cell_type": "code",
   "execution_count": null,
   "id": "31abb8b8",
   "metadata": {},
   "outputs": [],
   "source": [
    "\n",
    "# %%\n",
    "plt.figure(figsize=(6,4))\n",
    "plt.hist(y, bins=range(int(y.min()), int(y.max())+2), align='left', rwidth=0.8)\n",
    "plt.xlabel(\"quality\")\n",
    "plt.ylabel(\"Frecuencia\")\n",
    "plt.title(\"Distribución de 'quality' (multiclase)\")\n",
    "plt.tight_layout()\n",
    "plt.show()\n"
   ]
  },
  {
   "cell_type": "markdown",
   "id": "dc1420d3",
   "metadata": {},
   "source": [
    "## 5) Partición *train/test* (estratificada por calidad)"
   ]
  },
  {
   "cell_type": "code",
   "execution_count": null,
   "id": "beb75bd1",
   "metadata": {},
   "outputs": [],
   "source": [
    "\n",
    "# %%\n",
    "X_train, X_test, y_train, y_test = train_test_split(\n",
    "    X, y, test_size=0.25, random_state=42, stratify=y\n",
    ")\n",
    "print(X_train.shape, X_test.shape)\n"
   ]
  },
  {
   "cell_type": "markdown",
   "id": "3b4795d9",
   "metadata": {},
   "source": [
    "## 6) Función de evaluación (macro-F1 + matriz de confusión)"
   ]
  },
  {
   "cell_type": "code",
   "execution_count": null,
   "id": "b02a2470",
   "metadata": {},
   "outputs": [],
   "source": [
    "\n",
    "# %%\n",
    "def evaluar_modelo_mc(nombre, pipe, X_train, X_test, y_train, y_test):\n",
    "    pipe.fit(X_train, y_train)\n",
    "    y_pred = pipe.predict(X_test)\n",
    "    acc = accuracy_score(y_test, y_pred)\n",
    "    f1m = f1_score(y_test, y_pred, average='macro', zero_division=0)\n",
    "    print(f\"\\n=== {nombre} ===\")\n",
    "    print(f\"Accuracy: {acc:.3f} | Macro-F1: {f1m:.3f}\")\n",
    "    print(\"\\nReporte de clasificación (por clase):\")\n",
    "    print(classification_report(y_test, y_pred, zero_division=0))\n",
    "    cm = confusion_matrix(y_test, y_pred)\n",
    "    ConfusionMatrixDisplay(confusion_matrix=cm).plot(include_values=True, xticks_rotation=45)\n",
    "    plt.title(f\"Matriz de confusión — {nombre}\")\n",
    "    plt.tight_layout()\n",
    "    plt.show()\n",
    "    return {\"name\": nombre, \"pipe\": pipe, \"y_pred\": y_pred, \"acc\": acc, \"f1_macro\": f1m}\n"
   ]
  },
  {
   "cell_type": "markdown",
   "id": "fc739842",
   "metadata": {},
   "source": [
    "## 7) Modelos"
   ]
  },
  {
   "cell_type": "code",
   "execution_count": null,
   "id": "04a3ac07",
   "metadata": {},
   "outputs": [],
   "source": [
    "\n",
    "# %%\n",
    "logreg = Pipeline([\n",
    "    (\"scaler\", StandardScaler()),\n",
    "    (\"clf\", LogisticRegression(max_iter=1000, multi_class='multinomial'))\n",
    "])\n",
    "res_log = evaluar_modelo_mc(\"Logistic Regression (multinomial)\", logreg, X_train, X_test, y_train, y_test)\n"
   ]
  },
  {
   "cell_type": "code",
   "execution_count": null,
   "id": "1bd96dc1",
   "metadata": {},
   "outputs": [],
   "source": [
    "\n",
    "# %%\n",
    "tree = DecisionTreeClassifier(random_state=42, max_depth=None)\n",
    "res_tree = evaluar_modelo_mc(\"Decision Tree\", tree, X_train, X_test, y_train, y_test)\n"
   ]
  },
  {
   "cell_type": "code",
   "execution_count": null,
   "id": "2ff1dc30",
   "metadata": {},
   "outputs": [],
   "source": [
    "\n",
    "# %%\n",
    "rf = RandomForestClassifier(random_state=42, n_estimators=500, max_depth=None)\n",
    "res_rf = evaluar_modelo_mc(\"Random Forest\", rf, X_train, X_test, y_train, y_test)\n"
   ]
  },
  {
   "cell_type": "code",
   "execution_count": null,
   "id": "a102e809",
   "metadata": {},
   "outputs": [],
   "source": [
    "\n",
    "# %%\n",
    "svm_rbf = Pipeline([\n",
    "    (\"scaler\", StandardScaler()),\n",
    "    (\"clf\", SVC(kernel='rbf', probability=True, random_state=42))\n",
    "])\n",
    "res_svm = evaluar_modelo_mc(\"SVM (RBF)\", svm_rbf, X_train, X_test, y_train, y_test)\n"
   ]
  },
  {
   "cell_type": "markdown",
   "id": "e7be3f87",
   "metadata": {},
   "source": [
    "### 7.1) Validación cruzada (macro-F1, k=5)"
   ]
  },
  {
   "cell_type": "code",
   "execution_count": null,
   "id": "44a769f3",
   "metadata": {},
   "outputs": [],
   "source": [
    "\n",
    "# %%\n",
    "cv = StratifiedKFold(n_splits=5, shuffle=True, random_state=42)\n",
    "for nombre, pipe in [\n",
    "    (\"LogReg\", logreg),\n",
    "    (\"DecisionTree\", tree),\n",
    "    (\"RandomForest\", rf),\n",
    "    (\"SVM-RBF\", svm_rbf),\n",
    "]:\n",
    "    scores = cross_val_score(pipe, X, y, cv=cv, scoring='f1_macro')\n",
    "    print(f\"{nombre}: Macro-F1 = {scores.mean():.3f} ± {scores.std():.3f}\")\n"
   ]
  },
  {
   "cell_type": "markdown",
   "id": "55bee70f",
   "metadata": {},
   "source": [
    "## 8) ROC One-vs-Rest (multiclase)"
   ]
  },
  {
   "cell_type": "code",
   "execution_count": null,
   "id": "5b785f83",
   "metadata": {},
   "outputs": [],
   "source": [
    "\n",
    "# %%\n",
    "def plot_roc_ovr_multiclass(nombre, base_estimator, X_train, X_test, y_train, y_test):\n",
    "    classes = np.unique(y_train)\n",
    "    y_train_bin = label_binarize(y_train, classes=classes)\n",
    "    y_test_bin = label_binarize(y_test, classes=classes)\n",
    "\n",
    "    clf = OneVsRestClassifier(base_estimator)\n",
    "    clf.fit(X_train, y_train_bin)\n",
    "\n",
    "    if hasattr(clf, \"predict_proba\"):\n",
    "        y_score = clf.predict_proba(X_test)\n",
    "    else:\n",
    "        scores = clf.decision_function(X_test)\n",
    "        if scores.ndim == 1:\n",
    "            scores = scores[:, None]\n",
    "        # Normalización min-max por clase\n",
    "        minv = scores.min(axis=0, keepdims=True)\n",
    "        maxv = scores.max(axis=0, keepdims=True)\n",
    "        y_score = (scores - minv) / (maxv - minv + 1e-12)\n",
    "\n",
    "    plt.figure(figsize=(7,5))\n",
    "    for i, c in enumerate(classes):\n",
    "        fpr, tpr, _ = roc_curve(y_test_bin[:, i], y_score[:, i])\n",
    "        roc_auc = auc(fpr, tpr)\n",
    "        plt.plot(fpr, tpr, label=f\"Clase {c} (AUC={roc_auc:.2f})\")\n",
    "    plt.plot([0,1], [0,1], linestyle='--')\n",
    "    plt.xlabel(\"FPR\")\n",
    "    plt.ylabel(\"TPR\")\n",
    "    plt.title(f\"ROC OvR — {nombre}\")\n",
    "    plt.legend()\n",
    "    plt.tight_layout()\n",
    "    plt.show()\n",
    "\n",
    "# Ejemplos con LogReg y SVM\n",
    "plot_roc_ovr_multiclass(\"Logistic Regression (multinomial)\",\n",
    "                        LogisticRegression(max_iter=1000, multi_class='ovr'),\n",
    "                        X_train, X_test, y_train, y_test)\n",
    "\n",
    "plot_roc_ovr_multiclass(\"SVM (RBF)\",\n",
    "                        SVC(kernel='rbf', probability=True, random_state=42),\n",
    "                        X_train, X_test, y_train, y_test)\n"
   ]
  },
  {
   "cell_type": "markdown",
   "id": "52b7471f",
   "metadata": {},
   "source": [
    "## 9) Importancia de variables (árboles/bosques)"
   ]
  },
  {
   "cell_type": "code",
   "execution_count": null,
   "id": "d177883e",
   "metadata": {},
   "outputs": [],
   "source": [
    "\n",
    "# %%\n",
    "rf_fit = RandomForestClassifier(random_state=42, n_estimators=500)\n",
    "rf_fit.fit(X_train, y_train)\n",
    "importances = rf_fit.feature_importances_\n",
    "idx = np.argsort(importances)[::-1]\n",
    "\n",
    "print(\"Top 12 variables por importancia:\")\n",
    "for i in idx[:12]:\n",
    "    print(f\"{X.columns[i]:30s} {importances[i]:.4f}\")\n",
    "\n",
    "plt.figure(figsize=(8,5))\n",
    "top_k = 12\n",
    "plt.bar(range(top_k), importances[idx][:top_k])\n",
    "plt.xticks(range(top_k), [X.columns[i] for i in idx[:top_k]], rotation=45, ha='right')\n",
    "plt.ylabel(\"Importancia (Gini)\")\n",
    "plt.title(\"Importancia de variables — Random Forest\")\n",
    "plt.tight_layout()\n",
    "plt.show()\n"
   ]
  },
  {
   "cell_type": "markdown",
   "id": "598d8ab3",
   "metadata": {},
   "source": [
    "\n",
    "## 10) Notas didácticas\n",
    "- El problema es **desbalanceado** (pocas muestras en calidades extremas). Reports macro-F1 y matriz de confusión ayudan a interpretar.\n",
    "- **Escalado** es clave para LogReg y SVM.\n",
    "- Para estabilizar, puedes **agrupar**: p.ej., 3–4=“baja”, 5–6=“media”, 7–8=“alta” (convierte en 3 clases).\n",
    "- Considera usar *GroupKFold* si deseas separar por `type` o por lote de producción (si existiera).\n"
   ]
  }
 ],
 "metadata": {
  "kernelspec": {
   "display_name": "ML",
   "language": "python",
   "name": "python3"
  },
  "language_info": {
   "codemirror_mode": {
    "name": "ipython",
    "version": 3
   },
   "file_extension": ".py",
   "mimetype": "text/x-python",
   "name": "python",
   "nbconvert_exporter": "python",
   "pygments_lexer": "ipython3",
   "version": "3.9.23"
  }
 },
 "nbformat": 4,
 "nbformat_minor": 5
}
