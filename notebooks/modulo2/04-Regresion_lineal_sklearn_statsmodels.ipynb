{
 "cells": [
  {
   "cell_type": "markdown",
   "id": "fe0369ac",
   "metadata": {
    "id": "fe0369ac"
   },
   "source": [
    "# Regresión Lineal con **scikit‑learn** y **statsmodels**\n",
    "En este cuaderno veremos cómo ajustar un modelo de regresión lineal **sin** implementar manualmente el descenso por gradiente. Utilizaremos:\n",
    "\n",
    "* [`scikit‑learn`](https://scikit-learn.org) – enfoque orientado a *machine learning*.\n",
    "* [`statsmodels`](https://www.statsmodels.org) – enfoque clásico de *econometría/estadística*, que además muestra un resumen completo del modelo.\n",
    "\n",
    "Trabajaremos con el mismo conjunto de datos sintético que usamos en el ejemplo del descenso por gradiente para que la comparación sea directa."
   ]
  },
  {
   "cell_type": "code",
   "execution_count": null,
   "id": "d2d084c2",
   "metadata": {
    "executionInfo": {
     "elapsed": 14192,
     "status": "ok",
     "timestamp": 1748044869184,
     "user": {
      "displayName": "Delany Ramirez Del Río",
      "userId": "00157053603326049407"
     },
     "user_tz": 300
    },
    "id": "d2d084c2"
   },
   "outputs": [],
   "source": [
    "import numpy as np\n",
    "import matplotlib.pyplot as plt\n",
    "from sklearn.linear_model import LinearRegression\n",
    "from sklearn.metrics import mean_squared_error, r2_score\n",
    "import statsmodels.api as sm\n",
    "\n",
    "np.random.seed(42)\n",
    "\n",
    "# Datos sintéticos: y = 3.5 x - 8 + ruido\n",
    "true_w, true_b = 3.5, -8\n",
    "X = np.linspace(0, 10, 100)\n",
    "noise = np.random.normal(0, 2, size=X.shape)\n",
    "y = true_w * X + true_b + noise\n",
    "\n",
    "# Matriz 2‑D para scikit‑learn\n",
    "X_2d = X.reshape(-1, 1)"
   ]
  },
  {
   "cell_type": "markdown",
   "id": "4be788b1",
   "metadata": {
    "id": "4be788b1"
   },
   "source": [
    "## Visualización de los datos"
   ]
  },
  {
   "cell_type": "code",
   "execution_count": null,
   "id": "f4121697",
   "metadata": {
    "colab": {
     "base_uri": "https://localhost:8080/",
     "height": 472
    },
    "executionInfo": {
     "elapsed": 1048,
     "status": "ok",
     "timestamp": 1748044870242,
     "user": {
      "displayName": "Delany Ramirez Del Río",
      "userId": "00157053603326049407"
     },
     "user_tz": 300
    },
    "id": "f4121697",
    "outputId": "749ff285-9a13-43d0-d93a-9f0e0fe65828"
   },
   "outputs": [],
   "source": [
    "plt.figure()\n",
    "plt.scatter(X, y, s=20, alpha=0.6)\n",
    "plt.title('Datos sintéticos')\n",
    "plt.xlabel('X')\n",
    "plt.ylabel('y')\n",
    "plt.show()"
   ]
  },
  {
   "cell_type": "markdown",
   "id": "889a96a3",
   "metadata": {
    "id": "889a96a3"
   },
   "source": [
    "## 1. Ajuste con **scikit‑learn**"
   ]
  },
  {
   "cell_type": "code",
   "execution_count": null,
   "id": "483b1d4e",
   "metadata": {
    "colab": {
     "base_uri": "https://localhost:8080/"
    },
    "executionInfo": {
     "elapsed": 33,
     "status": "ok",
     "timestamp": 1748044872722,
     "user": {
      "displayName": "Delany Ramirez Del Río",
      "userId": "00157053603326049407"
     },
     "user_tz": 300
    },
    "id": "483b1d4e",
    "outputId": "3150fb2f-0f06-4981-8a5a-dc15aa282a4c"
   },
   "outputs": [],
   "source": [
    "# Instanciar y entrenar el modelo\n",
    "linreg = LinearRegression()\n",
    "linreg.fit(X_2d, y)\n",
    "\n",
    "w_skl = linreg.coef_[0]\n",
    "b_skl = linreg.intercept_\n",
    "\n",
    "# Predicciones y métricas\n",
    "y_pred_skl = linreg.predict(X_2d)\n",
    "mse_skl = mean_squared_error(y, y_pred_skl)\n",
    "r2_skl = r2_score(y, y_pred_skl)\n",
    "\n",
    "print(f'Pendiente (w): {w_skl:.3f}')\n",
    "print(f'Intercepto (b): {b_skl:.3f}')\n",
    "print(f'MSE: {mse_skl:.3f}')\n",
    "print(f'R^2: {r2_skl:.3f}')"
   ]
  },
  {
   "cell_type": "code",
   "execution_count": null,
   "id": "09ea567c",
   "metadata": {
    "colab": {
     "base_uri": "https://localhost:8080/",
     "height": 452
    },
    "executionInfo": {
     "elapsed": 957,
     "status": "ok",
     "timestamp": 1748044875357,
     "user": {
      "displayName": "Delany Ramirez Del Río",
      "userId": "00157053603326049407"
     },
     "user_tz": 300
    },
    "id": "09ea567c",
    "outputId": "fdce61de-3eab-4e4c-808a-cfe8e4c2dcdf"
   },
   "outputs": [],
   "source": [
    "# Gráfica de la recta ajustada\n",
    "plt.figure()\n",
    "plt.scatter(X, y, s=20, alpha=0.6, label='datos')\n",
    "plt.plot(X, y_pred_skl, color='r', label='scikit‑learn')\n",
    "plt.title('Recta ajustada con scikit‑learn')\n",
    "plt.legend()\n",
    "plt.show()"
   ]
  },
  {
   "cell_type": "markdown",
   "id": "c54be5ba",
   "metadata": {
    "id": "c54be5ba"
   },
   "source": [
    "## 2. Ajuste con **statsmodels**"
   ]
  },
  {
   "cell_type": "code",
   "execution_count": null,
   "id": "ed8683f8",
   "metadata": {
    "colab": {
     "base_uri": "https://localhost:8080/"
    },
    "executionInfo": {
     "elapsed": 62,
     "status": "ok",
     "timestamp": 1748044877592,
     "user": {
      "displayName": "Delany Ramirez Del Río",
      "userId": "00157053603326049407"
     },
     "user_tz": 300
    },
    "id": "ed8683f8",
    "outputId": "8813013a-6a48-4dee-f74b-1e01d83b0032"
   },
   "outputs": [],
   "source": [
    "# Statsmodels requiere añadir la constante manualmente\n",
    "X_sm = sm.add_constant(X)  # añade columna de 1s para el intercepto\n",
    "model_sm = sm.OLS(y, X_sm).fit()\n",
    "\n",
    "print(model_sm.summary())"
   ]
  },
  {
   "cell_type": "code",
   "execution_count": null,
   "id": "3c28280f",
   "metadata": {
    "id": "3c28280f"
   },
   "outputs": [],
   "source": [
    "# Predicciones de statsmodels (usamos el mismo X_sm)\n",
    "y_pred_sm = model_sm.predict(X_sm)\n",
    "\n",
    "# Gráfica comparativa\n",
    "plt.figure()\n",
    "plt.scatter(X, y, s=20, alpha=0.6, label='datos')\n",
    "plt.plot(X, y_pred_sm, color='g', label='statsmodels')\n",
    "plt.title('Recta ajustada con statsmodels')\n",
    "plt.legend()\n",
    "plt.show()\n",
    "\n",
    "# Métricas\n",
    "mse_sm = mean_squared_error(y, y_pred_sm)\n",
    "r2_sm = r2_score(y, y_pred_sm)\n",
    "print(f'MSE statsmodels: {mse_sm:.3f}')\n",
    "print(f'R^2 statsmodels: {r2_sm:.3f}')"
   ]
  },
  {
   "cell_type": "markdown",
   "id": "3e8f9047",
   "metadata": {
    "id": "3e8f9047"
   },
   "source": [
    "## 3. Comparación de resultados"
   ]
  },
  {
   "cell_type": "code",
   "execution_count": null,
   "id": "699e2fe0",
   "metadata": {
    "id": "699e2fe0"
   },
   "outputs": [],
   "source": [
    "print('--- Comparación rápida ---')\n",
    "print(f'Pendiente scikit‑learn   : {w_skl:.3f}')\n",
    "print(f'Pendiente statsmodels    : {model_sm.params[1]:.3f}')\n",
    "print(f'Intercepto scikit‑learn : {b_skl:.3f}')\n",
    "print(f'Intercepto statsmodels  : {model_sm.params[0]:.3f}')\n",
    "\n",
    "print(f'R^2 scikit‑learn  : {r2_skl:.3f}')\n",
    "print(f'R^2 statsmodels   : {r2_sm:.3f}')"
   ]
  },
  {
   "cell_type": "markdown",
   "id": "d009ecd9",
   "metadata": {
    "id": "d009ecd9"
   },
   "source": [
    "**Conclusión:** Ambos métodos ofrecen prácticamente los mismos parámetros y métricas, pues internamente resuelven la regresión lineal por la fórmula cerrada de mínimos cuadrados. La diferencia principal es la interfaz:\n",
    "* *scikit‑learn* se centra en pipelines y métricas de ML.\n",
    "* *statsmodels* brinda un resumen estadístico completo con valores *p*, intervalos de confianza, etc."
   ]
  }
 ],
 "metadata": {
  "colab": {
   "provenance": []
  },
  "kernelspec": {
   "display_name": "ML2",
   "language": "python",
   "name": "python3"
  },
  "language_info": {
   "name": "python",
   "version": "3.9.20"
  }
 },
 "nbformat": 4,
 "nbformat_minor": 5
}
