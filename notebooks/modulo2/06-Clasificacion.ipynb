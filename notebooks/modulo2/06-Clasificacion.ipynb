{
 "cells": [
  {
   "cell_type": "markdown",
   "metadata": {
    "id": "3zVv6036U7jT"
   },
   "source": [
    "# Regresión Logística\n",
    "\n",
    "**Descripción del Dataset:**\n",
    "\n",
    "- Utilizaremos el conjunto de datos de cáncer de mama de Wisconsin, disponible en Scikit-learn.\n",
    "- Objetivo: Clasificar tumores como malignos o benignos."
   ]
  },
  {
   "cell_type": "code",
   "execution_count": null,
   "metadata": {
    "colab": {
     "base_uri": "https://localhost:8080/"
    },
    "executionInfo": {
     "elapsed": 3905,
     "status": "ok",
     "timestamp": 1748564606050,
     "user": {
      "displayName": "Delany Ramirez Del Río",
      "userId": "00157053603326049407"
     },
     "user_tz": 300
    },
    "id": "ASAs0_BFU33a",
    "outputId": "d07264f7-6d19-407f-b58c-6be605811b68"
   },
   "outputs": [],
   "source": [
    "import numpy as np\n",
    "import pandas as pd\n",
    "from sklearn.model_selection import train_test_split\n",
    "from sklearn.linear_model import LogisticRegression\n",
    "from sklearn.metrics import classification_report, confusion_matrix\n",
    "from sklearn.datasets import load_breast_cancer\n",
    "\n",
    "# Cargar el conjunto de datos\n",
    "data = load_breast_cancer()\n",
    "X = data.data\n",
    "y = data.target\n",
    "\n",
    "# Crear DataFrame para exploración (opcional)\n",
    "df = pd.DataFrame(X, columns=data.feature_names)\n",
    "df['target'] = y\n",
    "\n",
    "\n",
    "\n",
    "# División de datos en entrenamiento y prueba\n",
    "X_train, X_test, y_train, y_test = train_test_split(\n",
    "    X, y, test_size=0.2, random_state=42, stratify=y)\n",
    "\n",
    "# Escalado de características (opcional pero recomendado)\n",
    "from sklearn.preprocessing import StandardScaler\n",
    "scaler = StandardScaler()\n",
    "X_train_scaled = scaler.fit_transform(X_train)\n",
    "X_test_scaled = scaler.transform(X_test)\n",
    "\n",
    "# Entrenamiento del modelo\n",
    "model = LogisticRegression(max_iter=10000)\n",
    "model.fit(X_train_scaled, y_train)\n",
    "\n",
    "# Predicciones\n",
    "y_pred = model.predict(X_test_scaled)\n",
    "\n",
    "print(y_pred)\n",
    "\n"
   ]
  },
  {
   "cell_type": "markdown",
   "metadata": {
    "id": "QYskek6xXr9N"
   },
   "source": [
    "**Evaluación del Modelo**"
   ]
  },
  {
   "cell_type": "code",
   "execution_count": null,
   "metadata": {
    "colab": {
     "base_uri": "https://localhost:8080/",
     "height": 659
    },
    "executionInfo": {
     "elapsed": 3120,
     "status": "ok",
     "timestamp": 1748564617752,
     "user": {
      "displayName": "Delany Ramirez Del Río",
      "userId": "00157053603326049407"
     },
     "user_tz": 300
    },
    "id": "9hzhq6CaXeVY",
    "outputId": "b6e5bbdf-c348-4f88-c4bb-69af7d6e18e8"
   },
   "outputs": [],
   "source": [
    "import seaborn as sns\n",
    "import matplotlib.pyplot as plt\n",
    "from sklearn.metrics import confusion_matrix\n",
    "\n",
    "# Evaluación del modelo\n",
    "print(\"Matriz de Confusión:\")\n",
    "print(confusion_matrix(y_test, y_pred))\n",
    "print(\"\\nInforme de Clasificación:\")\n",
    "print(classification_report(y_test, y_pred))\n",
    "\n",
    "\n",
    "# Confussion Matrix\n",
    "cm = confusion_matrix(y_test, y_pred)\n",
    "\n",
    "plt.figure(figsize=(6,4))\n",
    "sns.heatmap(cm, annot=True, fmt='d', cmap='Blues')\n",
    "plt.xlabel('Predicción')\n",
    "plt.ylabel('Real')\n",
    "plt.title('Matriz de Confusión')\n",
    "plt.show()\n"
   ]
  },
  {
   "cell_type": "markdown",
   "metadata": {
    "id": "cNBVYKXmYymQ"
   },
   "source": [
    "Curvas ROC y AUC"
   ]
  },
  {
   "cell_type": "code",
   "execution_count": null,
   "metadata": {
    "colab": {
     "base_uri": "https://localhost:8080/",
     "height": 472
    },
    "executionInfo": {
     "elapsed": 490,
     "status": "ok",
     "timestamp": 1748564620753,
     "user": {
      "displayName": "Delany Ramirez Del Río",
      "userId": "00157053603326049407"
     },
     "user_tz": 300
    },
    "id": "lArYjHJHYy8_",
    "outputId": "4bed8fca-c0e4-4830-9fe9-0518d4851790"
   },
   "outputs": [],
   "source": [
    "from sklearn.metrics import roc_curve, auc\n",
    "\n",
    "# Obtener las puntuaciones de decisión o probabilidades\n",
    "y_scores = model.predict_proba(X_test)[:,1]\n",
    "\n",
    "# Calcular FPR, TPR y umbrales\n",
    "fpr, tpr, thresholds = roc_curve(y_test, y_scores)\n",
    "\n",
    "# Calcular AUC\n",
    "roc_auc = auc(fpr, tpr)\n",
    "\n",
    "# Graficar Curva ROC\n",
    "plt.figure()\n",
    "plt.plot(fpr, tpr, label='Curva ROC (AUC = %0.2f)' % roc_auc)\n",
    "plt.plot([0, 1], [0, 1], 'k--')\n",
    "plt.xlabel('Tasa de Falsos Positivos')\n",
    "plt.ylabel('Tasa de Verdaderos Positivos')\n",
    "plt.title('Curva ROC')\n",
    "plt.legend(loc='lower right')\n",
    "plt.show()\n"
   ]
  },
  {
   "cell_type": "markdown",
   "metadata": {
    "id": "-ApuAh-KZYYK"
   },
   "source": [
    "Informe de Clasificación"
   ]
  },
  {
   "cell_type": "code",
   "execution_count": null,
   "metadata": {
    "id": "hosbHRUVZYhi"
   },
   "outputs": [],
   "source": [
    "from sklearn.metrics import classification_report\n",
    "\n",
    "print(classification_report(y_test, y_pred))\n"
   ]
  },
  {
   "cell_type": "markdown",
   "metadata": {
    "id": "DHwIpJjjbmWp"
   },
   "source": [
    "# KNN\n",
    "Preprocesamiento Necesario:\n",
    "\n",
    "Escalado de características es crucial para KNN."
   ]
  },
  {
   "cell_type": "code",
   "execution_count": null,
   "metadata": {
    "colab": {
     "base_uri": "https://localhost:8080/",
     "height": 659
    },
    "executionInfo": {
     "elapsed": 1341,
     "status": "ok",
     "timestamp": 1748564624425,
     "user": {
      "displayName": "Delany Ramirez Del Río",
      "userId": "00157053603326049407"
     },
     "user_tz": 300
    },
    "id": "CNL26Qbvbp3A",
    "outputId": "8acb980d-b5d0-4e56-f143-cf8e5be6902f"
   },
   "outputs": [],
   "source": [
    "from sklearn.neighbors import KNeighborsClassifier\n",
    "from sklearn.preprocessing import StandardScaler\n",
    "from sklearn.metrics import classification_report, confusion_matrix\n",
    "\n",
    "# Escalado de características\n",
    "scaler = StandardScaler()\n",
    "X_train_scaled = scaler.fit_transform(X_train)\n",
    "X_test_scaled = scaler.transform(X_test)\n",
    "\n",
    "# Entrenamiento del modelo con K=5\n",
    "knn = KNeighborsClassifier(n_neighbors=5)\n",
    "knn.fit(X_train_scaled, y_train)\n",
    "\n",
    "# Predicciones\n",
    "y_pred_knn = knn.predict(X_test_scaled)\n",
    "\n",
    "# Evaluación del modelo\n",
    "print(\"Matriz de Confusión:\")\n",
    "print(confusion_matrix(y_test, y_pred_knn))\n",
    "print(\"\\nInforme de Clasificación:\")\n",
    "print(classification_report(y_test, y_pred_knn))\n",
    "\n",
    "# Confussion Matrix\n",
    "cm_knn = confusion_matrix(y_test, y_pred_knn)\n",
    "\n",
    "plt.figure(figsize=(6,4))\n",
    "sns.heatmap(cm_knn, annot=True, fmt='d', cmap='Blues')\n",
    "plt.xlabel('Predicción KNN')\n",
    "plt.ylabel('Real')\n",
    "plt.title('Matriz de Confusión')\n",
    "plt.show()\n"
   ]
  },
  {
   "cell_type": "markdown",
   "metadata": {
    "id": "P_RvM_znbt73"
   },
   "source": []
  },
  {
   "cell_type": "markdown",
   "metadata": {
    "id": "q_xNUPwJoeHi"
   },
   "source": [
    "SVM - Supporting Vectors Machines"
   ]
  },
  {
   "cell_type": "code",
   "execution_count": null,
   "metadata": {
    "colab": {
     "base_uri": "https://localhost:8080/"
    },
    "executionInfo": {
     "elapsed": 31,
     "status": "ok",
     "timestamp": 1748564705018,
     "user": {
      "displayName": "Delany Ramirez Del Río",
      "userId": "00157053603326049407"
     },
     "user_tz": 300
    },
    "id": "AOZdecivoiDx",
    "outputId": "07c7f9fc-ee30-483c-ebbc-a437f9fce48f"
   },
   "outputs": [],
   "source": [
    "from sklearn.svm import SVC\n",
    "from sklearn.preprocessing import StandardScaler\n",
    "from sklearn.metrics import classification_report, confusion_matrix\n",
    "\n",
    "# Escalado de características\n",
    "scaler = StandardScaler()\n",
    "X_train_scaled = scaler.fit_transform(X_train)\n",
    "X_test_scaled = scaler.transform(X_test)\n",
    "\n",
    "# Entrenamiento del modelo con kernel RBF\n",
    "svm = SVC(kernel='rbf', probability=True)\n",
    "svm.fit(X_train_scaled, y_train)\n",
    "\n",
    "# Predicciones\n",
    "y_pred_svm = svm.predict(X_test_scaled)\n",
    "\n",
    "# Evaluación del modelo\n",
    "print(\"Matriz de Confusión:\")\n",
    "print(confusion_matrix(y_test, y_pred_svm))\n",
    "print(\"\\nInforme de Clasificación:\")\n",
    "print(classification_report(y_test, y_pred_svm))\n"
   ]
  },
  {
   "cell_type": "markdown",
   "metadata": {
    "id": "P66HQzO2pRDZ"
   },
   "source": [
    "# Ejercicio:\n",
    "\n",
    "**Dataset Seleccionado: Pima Indians Diabetes Dataset.**\n",
    "\n",
    "- Descripción: Este conjunto de datos se utiliza para predecir si un paciente tiene diabetes o no, basado en ciertas mediciones diagnósticas.\n",
    "Características:\n",
    " - Número de instancias: 768.\n",
    " - Número de atributos: 8 características numéricas (por ejemplo, número de embarazos, concentración de glucosa en plasma, presión arterial, índice de masa corporal, etc.).\n",
    "- Desafíos:\n",
    " - Desequilibrio de Clases: Aproximadamente el 65% de las instancias pertenecen a la clase negativa y el 35% a la clase positiva.\n",
    " - Valores Cero como Marcadores de Datos Faltantes: Algunos atributos - tienen valores cero que en realidad representan datos faltantes.\n"
   ]
  },
  {
   "cell_type": "markdown",
   "metadata": {
    "id": "RT6ECxfxp4Br"
   },
   "source": [
    "**Carga de datos**"
   ]
  },
  {
   "cell_type": "code",
   "execution_count": null,
   "metadata": {
    "id": "WEnHugPCpCgk"
   },
   "outputs": [],
   "source": [
    "import pandas as pd\n",
    "\n",
    "# Cargar el dataset desde una URL o archivo local\n",
    "url = 'https://raw.githubusercontent.com/jbrownlee/Datasets/master/pima-indians-diabetes.data.csv'\n",
    "column_names = ['Pregnancies', 'Glucose', 'BloodPressure', 'SkinThickness',\n",
    "                'Insulin', 'BMI', 'DiabetesPedigreeFunction', 'Age', 'Outcome']\n",
    "df = pd.read_csv(url, header=None, names=column_names)\n",
    "\n",
    "print(df.isnull().sum())\n",
    "\n",
    "df\n"
   ]
  },
  {
   "cell_type": "markdown",
   "metadata": {
    "id": "wqiq02vqp6Ci"
   },
   "source": [
    "**Distribución de la Variable Objetivo:**"
   ]
  },
  {
   "cell_type": "code",
   "execution_count": null,
   "metadata": {
    "id": "TqyxmaMDp8BS"
   },
   "outputs": [],
   "source": [
    "import matplotlib.pyplot as plt\n",
    "import seaborn as sns\n",
    "\n",
    "sns.countplot(x='Outcome', data=df)\n",
    "plt.title('Distribución de la Variable Objetivo')\n",
    "plt.show()\n"
   ]
  },
  {
   "cell_type": "markdown",
   "metadata": {
    "id": "EyGQM0J2p-Gp"
   },
   "source": [
    "**Observación:**\n",
    "\n",
    "Notar el desequilibrio de clases y discutir su impacto.\n",
    "\n",
    "**Preprocesamiento de Datos**\n",
    "\n",
    "- Identificación de Valores Faltantes:\n",
    "\n",
    " - En este dataset, los valores cero en ciertas columnas indican datos faltantes.\n",
    " - Columnas Afectadas: 'Glucose', 'BloodPressure', 'SkinThickness', 'Insulin', 'BMI'.\n",
    "\n",
    "**Reemplazo de Valores Cero por NaN:**"
   ]
  },
  {
   "cell_type": "code",
   "execution_count": null,
   "metadata": {
    "id": "fPz_Ilh9qIEo"
   },
   "outputs": [],
   "source": [
    "import numpy as np\n",
    "\n",
    "columnas_con_ceros = ['Glucose', 'BloodPressure', 'SkinThickness', 'Insulin', 'BMI']\n",
    "df[columnas_con_ceros] = df[columnas_con_ceros].replace(0, np.nan)\n"
   ]
  },
  {
   "cell_type": "markdown",
   "metadata": {
    "id": "ixV6R2BCqJZX"
   },
   "source": [
    "**Imputación de Valores Faltantes:**\n",
    "\n",
    "Método: Imputación con la mediana."
   ]
  },
  {
   "cell_type": "code",
   "execution_count": null,
   "metadata": {
    "id": "F4SZX0h6qLZf"
   },
   "outputs": [],
   "source": [
    "for columna in columnas_con_ceros:\n",
    "    mediana = df[columna].median()\n",
    "    df[columna].fillna(mediana, inplace=True)\n"
   ]
  },
  {
   "cell_type": "markdown",
   "metadata": {
    "id": "5fJ072KeqN3X"
   },
   "source": [
    "**Verificación de Valores Faltantes:**\n",
    "\n"
   ]
  },
  {
   "cell_type": "code",
   "execution_count": null,
   "metadata": {
    "id": "P6A9dL_KqQCG"
   },
   "outputs": [],
   "source": [
    "print(df.isnull().sum())\n"
   ]
  },
  {
   "cell_type": "markdown",
   "metadata": {
    "id": "4UWcWltiqSKm"
   },
   "source": [
    "**División de Datos**\n",
    "\n",
    "Separación en Características y Variable Objetivo:"
   ]
  },
  {
   "cell_type": "code",
   "execution_count": null,
   "metadata": {
    "id": "xB0JpyAOqU_2"
   },
   "outputs": [],
   "source": [
    "X = df.drop('Outcome', axis=1)\n",
    "y = df['Outcome']\n"
   ]
  },
  {
   "cell_type": "markdown",
   "metadata": {
    "id": "4HWcFxalqXA9"
   },
   "source": [
    "**División en Conjuntos de Entrenamiento y Prueba:**"
   ]
  },
  {
   "cell_type": "code",
   "execution_count": null,
   "metadata": {
    "id": "xTec2ZXBqYm8"
   },
   "outputs": [],
   "source": [
    "from sklearn.model_selection import train_test_split\n",
    "\n",
    "X_train, X_test, y_train, y_test = train_test_split(\n",
    "    X, y, test_size=0.2, random_state=42, stratify=y)\n"
   ]
  },
  {
   "cell_type": "markdown",
   "metadata": {
    "id": "GhuKK2hsqaK7"
   },
   "source": [
    "**Escalado de Características:**"
   ]
  },
  {
   "cell_type": "code",
   "execution_count": null,
   "metadata": {
    "id": "_xObp5Z-qcN7"
   },
   "outputs": [],
   "source": [
    "from sklearn.preprocessing import StandardScaler\n",
    "\n",
    "scaler = StandardScaler()\n",
    "X_train_scaled = scaler.fit_transform(X_train)\n",
    "X_test_scaled = scaler.transform(X_test)\n"
   ]
  },
  {
   "cell_type": "markdown",
   "metadata": {
    "id": "wKqy4ikNqeoD"
   },
   "source": [
    "## Implementación de Regresión Logística"
   ]
  },
  {
   "cell_type": "code",
   "execution_count": null,
   "metadata": {
    "id": "N4qc83YYqiqq"
   },
   "outputs": [],
   "source": [
    "from sklearn.linear_model import LogisticRegression\n",
    "\n",
    "model_logistic = LogisticRegression(max_iter=1000)\n",
    "model_logistic.fit(X_train_scaled, y_train)\n"
   ]
  },
  {
   "cell_type": "markdown",
   "metadata": {
    "id": "EBcOGYPfqqyR"
   },
   "source": [
    "**Predicciones y Evaluación:**"
   ]
  },
  {
   "cell_type": "code",
   "execution_count": null,
   "metadata": {
    "id": "6zQD6_ySqowB"
   },
   "outputs": [],
   "source": [
    "from sklearn.metrics import classification_report, confusion_matrix\n",
    "\n",
    "y_pred_logistic = model_logistic.predict(X_test_scaled)\n",
    "print(\"Matriz de Confusión - Regresión Logística:\")\n",
    "print(confusion_matrix(y_test, y_pred_logistic))\n",
    "# Confussion Matrix\n",
    "\n",
    "plt.figure(figsize=(6,4))\n",
    "sns.heatmap(confusion_matrix(y_test, y_pred_logistic), annot=True, fmt='d', cmap='Blues')\n",
    "plt.xlabel('Predicción')\n",
    "plt.ylabel('Real')\n",
    "plt.title('Matriz de Confusión')\n",
    "plt.show()\n",
    "\n",
    "print(\"\\nInforme de Clasificación:\")\n",
    "print(classification_report(y_test, y_pred_logistic))\n"
   ]
  },
  {
   "cell_type": "markdown",
   "metadata": {
    "id": "F9oUwJowqtMZ"
   },
   "source": [
    "**Análisis de Resultados:**\n",
    "\n",
    "- Discute la precisión, recall y F1-Score.\n",
    "- Observa cómo el modelo maneja el desequilibrio de clases.\n",
    "\n",
    "## Implementación de KNN\n",
    "\n",
    "Entrenamiento del Modelo:"
   ]
  },
  {
   "cell_type": "code",
   "execution_count": null,
   "metadata": {
    "id": "kBMLWP4HqzlA"
   },
   "outputs": [],
   "source": [
    "from sklearn.neighbors import KNeighborsClassifier\n",
    "\n",
    "model_knn = KNeighborsClassifier(n_neighbors=5)\n",
    "model_knn.fit(X_train_scaled, y_train)\n"
   ]
  },
  {
   "cell_type": "markdown",
   "metadata": {
    "id": "KBCzYB2jrE7k"
   },
   "source": [
    "**Predicciones y Evaluación:**"
   ]
  },
  {
   "cell_type": "code",
   "execution_count": null,
   "metadata": {
    "id": "t76bxcNQrGu8"
   },
   "outputs": [],
   "source": [
    "y_pred_knn = model_knn.predict(X_test_scaled)\n",
    "print(\"Matriz de Confusión - KNN:\")\n",
    "print(confusion_matrix(y_test, y_pred_knn))\n",
    "\n",
    "plt.figure(figsize=(6,4))\n",
    "sns.heatmap(confusion_matrix(y_test, y_pred_knn), annot=True, fmt='d', cmap='Blues')\n",
    "plt.xlabel('Predicción')\n",
    "plt.ylabel('Real')\n",
    "plt.title('Matriz de Confusión')\n",
    "plt.show()\n",
    "\n",
    "print(\"\\nInforme de Clasificación:\")\n",
    "print(classification_report(y_test, y_pred_knn))\n"
   ]
  },
  {
   "cell_type": "markdown",
   "metadata": {
    "id": "F9jSqggErREq"
   },
   "source": [
    "**Análisis de Resultados:**\n",
    "\n",
    "- Discute el impacto del valor de K.\n",
    "- Considera probar diferentes valores de K y evaluar el rendimiento."
   ]
  },
  {
   "cell_type": "markdown",
   "metadata": {
    "id": "7lDhYeo7rTux"
   },
   "source": [
    "## Implementación de SVM\n",
    "\n",
    "**Entrenamiento del Modelo:**"
   ]
  },
  {
   "cell_type": "code",
   "execution_count": null,
   "metadata": {
    "id": "fcYTADMMrWIK"
   },
   "outputs": [],
   "source": [
    "from sklearn.svm import SVC\n",
    "\n",
    "model_svm = SVC(kernel='rbf', probability=True)\n",
    "model_svm.fit(X_train_scaled, y_train)\n"
   ]
  },
  {
   "cell_type": "markdown",
   "metadata": {
    "id": "irQ3WWSJrX5y"
   },
   "source": [
    "**Predicciones y Evaluación:**"
   ]
  },
  {
   "cell_type": "code",
   "execution_count": null,
   "metadata": {
    "id": "8JGr3A5-rZUB"
   },
   "outputs": [],
   "source": [
    "y_pred_svm = model_svm.predict(X_test_scaled)\n",
    "print(\"Matriz de Confusión - SVM:\")\n",
    "print(confusion_matrix(y_test, y_pred_svm))\n",
    "\n",
    "plt.figure(figsize=(6,4))\n",
    "sns.heatmap(confusion_matrix(y_test, y_pred_svm), annot=True, fmt='d', cmap='Blues')\n",
    "plt.xlabel('Predicción')\n",
    "plt.ylabel('Real')\n",
    "plt.title('Matriz de Confusión')\n",
    "plt.show()\n",
    "\n",
    "print(\"\\nInforme de Clasificación:\")\n",
    "print(classification_report(y_test, y_pred_svm))\n"
   ]
  },
  {
   "cell_type": "markdown",
   "metadata": {
    "id": "C2pfgeHJremY"
   },
   "source": [
    "**Análisis de Resultados:**\n",
    "\n",
    "Explora el efecto de los hiperparámetros C y gamma.\n",
    "Discute cómo SVM maneja el desequilibrio de clases."
   ]
  },
  {
   "cell_type": "markdown",
   "metadata": {
    "id": "HP0da2F1rg7_"
   },
   "source": [
    "## Comparación de Modelos\n",
    "\n",
    "| Modelo | Accuracy | Precision | Recall | F1-Score |\n",
    "| --- | --- | --- | --- | --- |\n",
    "| Regresión Logística | . | .| . |\n",
    "| KNN = 5 | . | .| . |\n",
    "| SVM (Kernel RBF) | . | .| . |\n",
    "\n",
    "**Discusión:**\n",
    "\n",
    "Analiza las diferencias en las métricas.\n",
    "Discute por qué un modelo puede estar performando mejor que otros.\n",
    "Considera el impacto del desequilibrio de clases en los resultados."
   ]
  },
  {
   "cell_type": "markdown",
   "metadata": {
    "id": "TATqrBQHs6Lo"
   },
   "source": [
    "## Manejo del Desequilibrio de Clases\n",
    "\n",
    "- Estrategias:\n",
    "\n",
    " - Ajuste de Pesos: Usar el parámetro class_weight en los algoritmos."
   ]
  },
  {
   "cell_type": "code",
   "execution_count": null,
   "metadata": {
    "id": "PitZ-6AjtISf"
   },
   "outputs": [],
   "source": [
    "model_logistic_balanced = LogisticRegression(max_iter=1000, class_weight='balanced')\n",
    "model_logistic_balanced.fit(X_train_scaled, y_train)\n"
   ]
  },
  {
   "cell_type": "markdown",
   "metadata": {
    "id": "Beapi1q9cgqm"
   },
   "source": []
  },
  {
   "cell_type": "markdown",
   "metadata": {
    "id": "wNIiqJOMtJkt"
   },
   "source": [
    "- Remuestreo:\n",
    "\n",
    " - Sobremuestreo de la Clase Minoritaria.\n",
    " - Submuestreo de la Clase Mayoritaria.\n",
    "\n",
    " - Implementación de Sobremuestreo con SMOTE:"
   ]
  },
  {
   "cell_type": "code",
   "execution_count": null,
   "metadata": {
    "id": "mUuh_N7stMA2"
   },
   "outputs": [],
   "source": [
    "from imblearn.over_sampling import SMOTE\n",
    "\n",
    "smote = SMOTE(random_state=42)\n",
    "X_train_resampled, y_train_resampled = smote.fit_resample(X_train_scaled, y_train)\n"
   ]
  },
  {
   "cell_type": "markdown",
   "metadata": {
    "id": "EAK423LetQpV"
   },
   "source": [
    "- Entrenamiento del Modelo con Datos Equilibrados:\n"
   ]
  },
  {
   "cell_type": "code",
   "execution_count": null,
   "metadata": {
    "id": "VvCYmZqFtRuk"
   },
   "outputs": [],
   "source": [
    "model_logistic_resampled = LogisticRegression(max_iter=1000)\n",
    "model_logistic_resampled.fit(X_train_resampled, y_train_resampled)\n"
   ]
  },
  {
   "cell_type": "markdown",
   "metadata": {
    "id": "n7aB3d5BtT68"
   },
   "source": [
    "- Evaluación del Modelo:"
   ]
  },
  {
   "cell_type": "code",
   "execution_count": null,
   "metadata": {
    "id": "1EZRiPEptU30"
   },
   "outputs": [],
   "source": [
    "y_pred_resampled = model_logistic_resampled.predict(X_test_scaled)\n",
    "print(\"Matriz de Confusión - Regresión Logística con SMOTE:\")\n",
    "print(confusion_matrix(y_test, y_pred_resampled))\n",
    "\n",
    "plt.figure(figsize=(6,4))\n",
    "sns.heatmap(confusion_matrix(y_test, y_pred_resampled), annot=True, fmt='d', cmap='Blues')\n",
    "plt.xlabel('Predicción')\n",
    "plt.ylabel('Real')\n",
    "plt.title('Matriz de Confusión')\n",
    "plt.show()\n",
    "\n",
    "print(\"\\nInforme de Clasificación:\")\n",
    "print(classification_report(y_test, y_pred_resampled))\n"
   ]
  },
  {
   "cell_type": "markdown",
   "metadata": {
    "id": "iz3sinUntb9s"
   },
   "source": [
    "- Análisis de Resultados:\n",
    "\n",
    " - Observa cómo cambian las métricas después de aplicar SMOTE.\n",
    " - Discute las ventajas y posibles desventajas de esta técnica.\n",
    "\n",
    "## Curvas ROC y AUC\n",
    "\n",
    "Generación de la Curva ROC para Cada Modelo:"
   ]
  },
  {
   "cell_type": "code",
   "execution_count": null,
   "metadata": {
    "id": "Ew9mC_mZtfAS"
   },
   "outputs": [],
   "source": [
    "from sklearn.metrics import roc_curve, auc\n",
    "\n",
    "modelos = {\n",
    "    'Regresión Logística': model_logistic,\n",
    "    'KNN': model_knn,\n",
    "    'SVM': model_svm\n",
    "}\n",
    "\n",
    "plt.figure()\n",
    "\n",
    "for nombre, modelo in modelos.items():\n",
    "    if hasattr(modelo, \"predict_proba\"):\n",
    "        y_prob = modelo.predict_proba(X_test_scaled)[:,1]\n",
    "    else:\n",
    "        y_prob = modelo.decision_function(X_test_scaled)\n",
    "    fpr, tpr, thresholds = roc_curve(y_test, y_prob)\n",
    "    roc_auc = auc(fpr, tpr)\n",
    "    plt.plot(fpr, tpr, label=f'{nombre} (AUC = {roc_auc:.2f})')\n",
    "\n",
    "plt.plot([0, 1], [0, 1], 'k--')\n",
    "plt.xlabel('Tasa de Falsos Positivos')\n",
    "plt.ylabel('Tasa de Verdaderos Positivos')\n",
    "plt.title('Curvas ROC')\n",
    "plt.legend(loc='lower right')\n",
    "plt.show()\n"
   ]
  },
  {
   "cell_type": "markdown",
   "metadata": {
    "id": "6MczHWq8ti8J"
   },
   "source": [
    "- Análisis de Resultados:\n",
    "\n",
    " - Compara el AUC de cada modelo.\n",
    " - Discute qué tan buenos son los modelos para distinguir entre clases.\n",
    "\n",
    "## Ajuste de Hiperparámetros\n",
    "\n",
    "- Búsqueda en Malla (Grid Search) para KNN:\n"
   ]
  },
  {
   "cell_type": "code",
   "execution_count": null,
   "metadata": {
    "id": "DFV-h9v5tpJZ"
   },
   "outputs": [],
   "source": [
    "from sklearn.model_selection import GridSearchCV\n",
    "\n",
    "param_grid = {'n_neighbors': range(1, 31)}\n",
    "grid_search = GridSearchCV(KNeighborsClassifier(), param_grid, cv=5, scoring='f1')\n",
    "grid_search.fit(X_train_scaled, y_train)\n",
    "\n",
    "print(\"Mejor número de vecinos:\", grid_search.best_params_)\n"
   ]
  },
  {
   "cell_type": "markdown",
   "metadata": {
    "id": "xRaGOD3QtrdQ"
   },
   "source": [
    "- Entrenamiento con el Mejor Parámetro:"
   ]
  },
  {
   "cell_type": "code",
   "execution_count": null,
   "metadata": {
    "id": "d30zzZv0tswn"
   },
   "outputs": [],
   "source": [
    "best_k = grid_search.best_params_['n_neighbors']\n",
    "model_knn_best = KNeighborsClassifier(n_neighbors=best_k)\n",
    "model_knn_best.fit(X_train_scaled, y_train)\n",
    "y_pred_knn_best = model_knn_best.predict(X_test_scaled)\n",
    "print(\"Informe de Clasificación - KNN con Mejor K:\")\n",
    "print(classification_report(y_test, y_pred_knn_best))\n"
   ]
  },
  {
   "cell_type": "markdown",
   "metadata": {
    "id": "aKrfTjvLtvF_"
   },
   "source": [
    "- Análisis:\n",
    "\n",
    " - Observa cómo el ajuste de hiperparámetros mejora el rendimiento.\n",
    " - Discute la importancia de la validación cruzada."
   ]
  }
 ],
 "metadata": {
  "colab": {
   "provenance": []
  },
  "kernelspec": {
   "display_name": "ML2",
   "language": "python",
   "name": "python3"
  },
  "language_info": {
   "codemirror_mode": {
    "name": "ipython",
    "version": 3
   },
   "file_extension": ".py",
   "mimetype": "text/x-python",
   "name": "python",
   "nbconvert_exporter": "python",
   "pygments_lexer": "ipython3",
   "version": "3.9.20"
  }
 },
 "nbformat": 4,
 "nbformat_minor": 0
}
