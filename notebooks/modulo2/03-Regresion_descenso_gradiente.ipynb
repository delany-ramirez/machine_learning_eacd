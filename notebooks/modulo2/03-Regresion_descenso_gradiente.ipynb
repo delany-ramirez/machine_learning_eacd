{
 "cells": [
  {
   "cell_type": "markdown",
   "id": "8583ed78",
   "metadata": {},
   "source": [
    "# Descenso por Gradiente en Regresión Lineal\n",
    "Este notebook demuestra paso a paso cómo el descenso por gradiente ajusta una recta de regresión lineal minimizando el error cuadrático medio (MSE)."
   ]
  },
  {
   "cell_type": "code",
   "execution_count": 1,
   "id": "3f39690d",
   "metadata": {},
   "outputs": [],
   "source": [
    "import numpy as np\n",
    "import matplotlib.pyplot as plt\n",
    "\n",
    "# Para reproducibilidad\n",
    "np.random.seed(42)"
   ]
  },
  {
   "cell_type": "markdown",
   "id": "a1e7095f",
   "metadata": {},
   "source": [
    "## Generación de datos sintéticos"
   ]
  },
  {
   "cell_type": "code",
   "execution_count": 2,
   "id": "3f98ed25",
   "metadata": {},
   "outputs": [],
   "source": [
    "# Parámetros “reales” de la recta\n",
    "true_w, true_b = 3.5, -8\n",
    "\n",
    "# Generamos 100 observaciones\n",
    "X = np.linspace(0, 10, 100)\n",
    "noise = np.random.normal(0, 2, size=X.shape)\n",
    "y = true_w * X + true_b + noise"
   ]
  },
  {
   "cell_type": "markdown",
   "id": "bef12514",
   "metadata": {},
   "source": [
    "## Funciones auxiliares"
   ]
  },
  {
   "cell_type": "code",
   "execution_count": 3,
   "id": "f39937a4",
   "metadata": {},
   "outputs": [],
   "source": [
    "def mse(y_true, y_pred):\n",
    "    return np.mean((y_true - y_pred) ** 2)\n",
    "\n",
    "def gradients(X, y_true, y_pred):\n",
    "    n = len(X)\n",
    "    dw = (-2/n) * np.sum(X * (y_true - y_pred))\n",
    "    db = (-2/n) * np.sum(y_true - y_pred)\n",
    "    return dw, db\n",
    "\n",
    "def plot_line(ax, w, b, label=None, **kwargs):\n",
    "    xs = np.array([X.min(), X.max()])\n",
    "    ys = w * xs + b\n",
    "    ax.plot(xs, ys, label=label, **kwargs)"
   ]
  },
  {
   "cell_type": "markdown",
   "id": "77e2018c",
   "metadata": {},
   "source": [
    "## Descenso por Gradiente (loop iterativo)"
   ]
  },
  {
   "cell_type": "code",
   "execution_count": null,
   "id": "590b3094",
   "metadata": {},
   "outputs": [],
   "source": [
    "# Hiperparámetros\n",
    "alpha = 0.01       # tasa de aprendizaje\n",
    "n_iter = 200       # iteraciones\n",
    "\n",
    "# Inicialización aleatoria\n",
    "w, b = np.random.randn(), np.random.randn()\n",
    "\n",
    "# Para visualizar la evolución\n",
    "history_w, history_b, history_cost = [], [], []\n",
    "\n",
    "for i in range(n_iter):\n",
    "    y_pred = w * X + b\n",
    "    cost = mse(y, y_pred)\n",
    "\n",
    "    history_w.append(w)\n",
    "    history_b.append(b)\n",
    "    history_cost.append(cost)\n",
    "\n",
    "    dw, db = gradients(X, y, y_pred)\n",
    "    w -= alpha * dw\n",
    "    b -= alpha * db\n",
    "\n",
    "    if (i+1) % 25 == 0:\n",
    "        print(f\"Iter {i+1:3d}: MSE={cost:.3f}, w={w:.3f}, b={b:.3f}\")"
   ]
  },
  {
   "cell_type": "markdown",
   "id": "a63daa65",
   "metadata": {},
   "source": [
    "## Curva de aprendizaje"
   ]
  },
  {
   "cell_type": "code",
   "execution_count": null,
   "id": "8a71f056",
   "metadata": {},
   "outputs": [],
   "source": [
    "plt.figure()\n",
    "plt.plot(range(n_iter), history_cost)\n",
    "plt.xlabel('Iteración')\n",
    "plt.ylabel('MSE')\n",
    "plt.title('Disminución del error durante el entrenamiento')\n",
    "plt.grid(True)\n",
    "plt.show()"
   ]
  },
  {
   "cell_type": "markdown",
   "id": "0ea4b449",
   "metadata": {},
   "source": [
    "## Recta final vs. datos"
   ]
  },
  {
   "cell_type": "code",
   "execution_count": null,
   "id": "15c9ab28",
   "metadata": {},
   "outputs": [],
   "source": [
    "fig, ax = plt.subplots()\n",
    "ax.scatter(X, y, s=20, alpha=0.6, label='datos')\n",
    "plot_line(ax, w, b, label='ajuste final')\n",
    "ax.legend()\n",
    "ax.set_title('Regresión lineal ajustada')\n",
    "plt.show()"
   ]
  },
  {
   "cell_type": "markdown",
   "id": "ffba74b7",
   "metadata": {},
   "source": [
    "## Animación de la evolución de la recta (opcional)"
   ]
  },
  {
   "cell_type": "code",
   "execution_count": null,
   "id": "d5808e22",
   "metadata": {},
   "outputs": [],
   "source": [
    "from matplotlib.animation import FuncAnimation\n",
    "\n",
    "fig, ax = plt.subplots()\n",
    "ax.scatter(X, y, s=20, alpha=0.6)\n",
    "line, = ax.plot([], [], lw=2)\n",
    "\n",
    "def init():\n",
    "    ax.set_xlim(X.min(), X.max())\n",
    "    ax.set_ylim(y.min()-5, y.max()+5)\n",
    "    return line,\n",
    "\n",
    "def update(frame):\n",
    "    w_i, b_i = history_w[frame], history_b[frame]\n",
    "    xs = np.array([X.min(), X.max()])\n",
    "    ys = w_i * xs + b_i\n",
    "    line.set_data(xs, ys)\n",
    "    return line,\n",
    "\n",
    "ani = FuncAnimation(fig, update, frames=len(history_w),\n",
    "                    init_func=init, blit=True, interval=50)\n",
    "\n",
    "# Para mostrar en Jupyter simplemente ejecuta la celda; para guardar:\n",
    "# ani.save('gradiente_lineal.gif', writer='pillow')\n",
    "plt.close()  # evita doble visualización en algunos entornos\n",
    "ani\n",
    "ani.save('gradiente_lineal.gif', writer='pillow')"
   ]
  },
  {
   "cell_type": "code",
   "execution_count": 15,
   "id": "65211b03",
   "metadata": {},
   "outputs": [],
   "source": [
    "# =========================================================\n",
    "# Animación doble: línea ajustada + punto que desciende la curva de pérdida\n",
    "# =========================================================\n",
    "%matplotlib inline\n",
    "\n",
    "import numpy as np\n",
    "import matplotlib.pyplot as plt\n",
    "from matplotlib.animation import FuncAnimation\n",
    "from IPython.display import HTML\n",
    "\n",
    "# -----------------------------------------------------------------\n",
    "# Curva parabólica del MSE en función de la pendiente (b fijo)\n",
    "# -----------------------------------------------------------------\n",
    "if len(history_w) == 0 or len(history_b) == 0:\n",
    "    raise ValueError(\"history_w/history_b están vacíos. Ejecuta primero la celda de entrenamiento.\")\n",
    "\n",
    "b_fixed = history_b[-1]  # fijamos b para dibujar MSE(w)\n",
    "w_grid  = np.linspace(min(history_w) - 1, max(history_w) + 1, 400)\n",
    "loss_curve = [mse(y, w * X + b_fixed) for w in w_grid]\n",
    "\n",
    "# -----------------------------------------------------------------\n",
    "# Figura con dos subplots\n",
    "# -----------------------------------------------------------------\n",
    "fig, (ax_data, ax_loss) = plt.subplots(1, 2, figsize=(10, 4))\n",
    "\n",
    "# 1) Datos y línea\n",
    "ax_data.scatter(X, y, s=20, alpha=0.6)\n",
    "line, = ax_data.plot([], [], lw=2, color='r')\n",
    "ax_data.set_xlim(X.min(), X.max())\n",
    "ax_data.set_ylim(y.min() - 5, y.max() + 5)\n",
    "ax_data.set_title(\"Ajuste de la recta\")\n",
    "\n",
    "# 2) Curva de pérdida y punto móvil\n",
    "ax_loss.plot(w_grid, loss_curve, lw=1.5)\n",
    "point, = ax_loss.plot([], [], 'ro')\n",
    "ax_loss.set_xlabel(\"Pendiente w\")\n",
    "ax_loss.set_ylabel(\"MSE\")\n",
    "ax_loss.set_title(\"Descenso por la curva de pérdida\")\n",
    "\n",
    "# -----------------------------------------------------------------\n",
    "# Funciones de animación\n",
    "# -----------------------------------------------------------------\n",
    "def init():\n",
    "    line.set_data([], [])\n",
    "    point.set_data([], [])\n",
    "    return line, point\n",
    "\n",
    "def update(frame):\n",
    "    w_i, b_i = history_w[frame], history_b[frame]\n",
    "\n",
    "    # Línea sobre los datos\n",
    "    xs = np.array([X.min(), X.max()])\n",
    "    ys = w_i * xs + b_i\n",
    "    line.set_data(xs, ys)\n",
    "\n",
    "    # Punto sobre la curva de pérdida  ← AQUÍ\n",
    "    current_loss = mse(y, w_i * X + b_fixed)\n",
    "    point.set_data([w_i], [current_loss])      # <- usa listas o arrays\n",
    "\n",
    "    return line, point\n",
    "\n",
    "\n",
    "ani = FuncAnimation(fig, update, frames=len(history_w),\n",
    "                    init_func=init, blit=True, interval=20)\n",
    "\n",
    "plt.close()  # evita mostrar frame estático duplicado\n",
    "ani.save('gradiente_lineal_doble.gif', writer='pillow')\n"
   ]
  }
 ],
 "metadata": {
  "kernelspec": {
   "display_name": "ML",
   "language": "python",
   "name": "python3"
  },
  "language_info": {
   "codemirror_mode": {
    "name": "ipython",
    "version": 3
   },
   "file_extension": ".py",
   "mimetype": "text/x-python",
   "name": "python",
   "nbconvert_exporter": "python",
   "pygments_lexer": "ipython3",
   "version": "3.9.21"
  }
 },
 "nbformat": 4,
 "nbformat_minor": 5
}
