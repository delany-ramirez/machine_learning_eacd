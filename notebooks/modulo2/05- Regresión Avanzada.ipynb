{
 "cells": [
  {
   "cell_type": "markdown",
   "metadata": {
    "id": "rfA9-6bR12Rj"
   },
   "source": [
    "# Actividad Práctica: Implementación y Comparación de Modelos con Regularización\n",
    "\n",
    "## Introducción a la Actividad\n",
    "\n",
    "**Objetivo:**\n",
    "\n",
    "- Implementar modelos de regresión lineal, polinómica, Ridge y Lasso utilizando un conjunto de datos real.\n",
    "- Comparar el rendimiento de los modelos y analizar el impacto de la regularización y la multicolinealidad.\n",
    "\n",
    "**Dataset Propuesto:**\n",
    "\n",
    "- Utilizar el conjunto de datos 'Wine Quality' disponible en UCI Machine Learning Repository.\n",
    "- Datos sobre características químicas de vinos y su calidad.\n",
    "\n",
    "**Tareas:**\n",
    "\n",
    "- Cargar y explorar el dataset.\n",
    "- Detectar y manejar la multicolinealidad.\n",
    "- Implementar regresión lineal y polinómica.\n",
    "- Aplicar Ridge y Lasso.\n",
    "- Comparar resultados y extraer conclusiones.\n",
    "\n",
    "## Paso 1 - Carga y Exploración del Dataset\n",
    "\n",
    "**Cargar el Dataset:**\n",
    "\n"
   ]
  },
  {
   "cell_type": "code",
   "execution_count": null,
   "metadata": {
    "executionInfo": {
     "elapsed": 39,
     "status": "ok",
     "timestamp": 1748047855869,
     "user": {
      "displayName": "Delany Ramirez Del Río",
      "userId": "00157053603326049407"
     },
     "user_tz": 300
    },
    "id": "mRLNmxfM1zFb"
   },
   "outputs": [],
   "source": [
    "import pandas as pd\n",
    "\n",
    "df = pd.read_csv('winequality-red.csv', sep=',')"
   ]
  },
  {
   "cell_type": "markdown",
   "metadata": {
    "id": "zS0UWf-P2ZeV"
   },
   "source": [
    "**Exploración Inicial:**\n",
    "- Visualizar las primeras filas con df.head().\n",
    "- Obtener información del dataset con df.info().\n",
    "- Describir las variables con df.describe().\n",
    "\n",
    "\n"
   ]
  },
  {
   "cell_type": "code",
   "execution_count": null,
   "metadata": {
    "id": "NoJRR1xz2omC"
   },
   "outputs": [],
   "source": []
  },
  {
   "cell_type": "code",
   "execution_count": null,
   "metadata": {
    "id": "43BBXVR339W8"
   },
   "outputs": [],
   "source": []
  },
  {
   "cell_type": "code",
   "execution_count": null,
   "metadata": {
    "id": "_i0zwoec39ps"
   },
   "outputs": [],
   "source": []
  },
  {
   "cell_type": "markdown",
   "metadata": {
    "id": "RresVlMt2o6K"
   },
   "source": [
    "\n",
    "La variable objetivo es 'quality', una medida de la calidad del vino.\n",
    "\n",
    "## Paso 2 - Detección y Manejo de la Multicolinealidad\n",
    "\n",
    "**Matriz de Correlación:**\n"
   ]
  },
  {
   "cell_type": "code",
   "execution_count": null,
   "metadata": {
    "colab": {
     "base_uri": "https://localhost:8080/",
     "height": 952
    },
    "executionInfo": {
     "elapsed": 2336,
     "status": "ok",
     "timestamp": 1748047863359,
     "user": {
      "displayName": "Delany Ramirez Del Río",
      "userId": "00157053603326049407"
     },
     "user_tz": 300
    },
    "id": "NTQ06v9A2pLq",
    "outputId": "9fbefec3-4069-4261-ede5-5d5ccaca72f4"
   },
   "outputs": [],
   "source": [
    "import seaborn as sns\n",
    "import matplotlib.pyplot as plt\n",
    "\n",
    "# Plot a correlation heatmap to visualize relationships between features with all labels\n",
    "corr_matrix = df.corr()\n",
    "plt.figure(figsize=(12, 10))\n",
    "sns.heatmap(corr_matrix, annot=True, cmap='coolwarm')\n",
    "plt.show()\n"
   ]
  },
  {
   "cell_type": "markdown",
   "metadata": {
    "id": "R8GcnAoV2phR"
   },
   "source": [
    "**Análisis del VIF:**\n",
    "\n"
   ]
  },
  {
   "cell_type": "code",
   "execution_count": null,
   "metadata": {
    "colab": {
     "base_uri": "https://localhost:8080/"
    },
    "executionInfo": {
     "elapsed": 192,
     "status": "ok",
     "timestamp": 1748047982063,
     "user": {
      "displayName": "Delany Ramirez Del Río",
      "userId": "00157053603326049407"
     },
     "user_tz": 300
    },
    "id": "gfdxztNU2pvK",
    "outputId": "60c52761-744c-47fd-bd22-5288a3a13511"
   },
   "outputs": [],
   "source": [
    "from statsmodels.stats.outliers_influence import variance_inflation_factor\n",
    "\n",
    "X = df.drop('quality', axis=1)\n",
    "vif_data = pd.DataFrame()\n",
    "vif_data[\"feature\"] = X.columns\n",
    "vif_data[\"VIF\"] = [variance_inflation_factor(X.values, i) for i in range(len(X.columns))]\n",
    "print(vif_data)\n"
   ]
  },
  {
   "cell_type": "markdown",
   "metadata": {
    "id": "ufHyjCvR2p6p"
   },
   "source": [
    "**Manejo de Multicolinealidad:**\n",
    "\n",
    "- Decidir si eliminar variables altamente correlacionadas.\n",
    "- Considerar combinar variables o aplicar técnicas de regularización.\n",
    "\n",
    "## Paso 3 - Implementación de Modelos de Regresión\n",
    "\n",
    "**Preparar los Datos:**\n",
    "\n"
   ]
  },
  {
   "cell_type": "code",
   "execution_count": null,
   "metadata": {
    "executionInfo": {
     "elapsed": 365,
     "status": "ok",
     "timestamp": 1748048056851,
     "user": {
      "displayName": "Delany Ramirez Del Río",
      "userId": "00157053603326049407"
     },
     "user_tz": 300
    },
    "id": "EvmSNYMt2qN5"
   },
   "outputs": [],
   "source": [
    "from sklearn.model_selection import train_test_split\n",
    "\n",
    "X = df.drop('quality', axis=1)\n",
    "y = df['quality']\n",
    "X_train, X_test, y_train, y_test = train_test_split(X, y, test_size=0.2, random_state=42)\n"
   ]
  },
  {
   "cell_type": "markdown",
   "metadata": {
    "id": "dXD4uqsR2qZi"
   },
   "source": [
    "**Regresión Lineal Simple:**\n",
    "\n"
   ]
  },
  {
   "cell_type": "code",
   "execution_count": null,
   "metadata": {
    "executionInfo": {
     "elapsed": 324,
     "status": "ok",
     "timestamp": 1748048060690,
     "user": {
      "displayName": "Delany Ramirez Del Río",
      "userId": "00157053603326049407"
     },
     "user_tz": 300
    },
    "id": "sO3ZB4fP2qrR"
   },
   "outputs": [],
   "source": [
    "from sklearn.linear_model import LinearRegression\n",
    "\n",
    "modelo_lineal = LinearRegression()\n",
    "modelo_lineal.fit(X_train, y_train)\n",
    "y_pred_lineal = modelo_lineal.predict(X_test)\n"
   ]
  },
  {
   "cell_type": "markdown",
   "metadata": {
    "id": "Mz3_Svhn2q1B"
   },
   "source": [
    "**Regresión Polinómica:**\n",
    "\n"
   ]
  },
  {
   "cell_type": "code",
   "execution_count": null,
   "metadata": {
    "executionInfo": {
     "elapsed": 8,
     "status": "ok",
     "timestamp": 1748048069359,
     "user": {
      "displayName": "Delany Ramirez Del Río",
      "userId": "00157053603326049407"
     },
     "user_tz": 300
    },
    "id": "NKg86rhL2rCR"
   },
   "outputs": [],
   "source": [
    "from sklearn.preprocessing import PolynomialFeatures\n",
    "\n",
    "poly = PolynomialFeatures(degree=2)\n",
    "X_train_poly = poly.fit_transform(X_train)\n",
    "X_test_poly = poly.transform(X_test)\n",
    "\n",
    "modelo_polinomico = LinearRegression()\n",
    "modelo_polinomico.fit(X_train_poly, y_train)\n",
    "y_pred_polinomico = modelo_polinomico.predict(X_test_poly)\n"
   ]
  },
  {
   "cell_type": "markdown",
   "metadata": {
    "id": "ikLbZPAQ2rNR"
   },
   "source": [
    "**Evaluación de Modelos:**\n",
    "\n"
   ]
  },
  {
   "cell_type": "code",
   "execution_count": null,
   "metadata": {
    "executionInfo": {
     "elapsed": 4,
     "status": "ok",
     "timestamp": 1748048071203,
     "user": {
      "displayName": "Delany Ramirez Del Río",
      "userId": "00157053603326049407"
     },
     "user_tz": 300
    },
    "id": "AYiJnl6O2rv6"
   },
   "outputs": [],
   "source": [
    "from sklearn.metrics import mean_squared_error, r2_score\n",
    "\n",
    "mse_lineal = mean_squared_error(y_test, y_pred_lineal)\n",
    "r2_lineal = r2_score(y_test, y_pred_lineal)\n",
    "\n",
    "mse_polinomico = mean_squared_error(y_test, y_pred_polinomico)\n",
    "r2_polinomico = r2_score(y_test, y_pred_polinomico)\n",
    "\n"
   ]
  },
  {
   "cell_type": "markdown",
   "metadata": {
    "id": "eDooWnxZ2r65"
   },
   "source": [
    "## Paso 4 - Aplicación de Ridge y Lasso\n",
    "\n",
    "**Regresión Ridge:**\n",
    "\n"
   ]
  },
  {
   "cell_type": "code",
   "execution_count": null,
   "metadata": {
    "executionInfo": {
     "elapsed": 0,
     "status": "ok",
     "timestamp": 1748048131112,
     "user": {
      "displayName": "Delany Ramirez Del Río",
      "userId": "00157053603326049407"
     },
     "user_tz": 300
    },
    "id": "3AJBd6eZ3bfJ"
   },
   "outputs": [],
   "source": [
    "from sklearn.linear_model import Ridge\n",
    "\n",
    "modelo_ridge = Ridge(alpha=1.0)\n",
    "modelo_ridge.fit(X_train, y_train)\n",
    "y_pred_ridge = modelo_ridge.predict(X_test)\n",
    "\n",
    "mse_ridge = mean_squared_error(y_test, y_pred_ridge)\n",
    "r2_ridge = r2_score(y_test, y_pred_ridge)\n"
   ]
  },
  {
   "cell_type": "markdown",
   "metadata": {
    "id": "WauoN0mX3bsJ"
   },
   "source": [
    "**Regresión Lasso:**\n",
    "\n"
   ]
  },
  {
   "cell_type": "code",
   "execution_count": null,
   "metadata": {
    "executionInfo": {
     "elapsed": 15,
     "status": "ok",
     "timestamp": 1748048132879,
     "user": {
      "displayName": "Delany Ramirez Del Río",
      "userId": "00157053603326049407"
     },
     "user_tz": 300
    },
    "id": "qfl_nzeY3b_h"
   },
   "outputs": [],
   "source": [
    "from sklearn.linear_model import Lasso\n",
    "\n",
    "modelo_lasso = Lasso(alpha=0.1)\n",
    "modelo_lasso.fit(X_train, y_train)\n",
    "y_pred_lasso = modelo_lasso.predict(X_test)\n",
    "\n",
    "mse_lasso = mean_squared_error(y_test, y_pred_lasso)\n",
    "r2_lasso = r2_score(y_test, y_pred_lasso)\n"
   ]
  },
  {
   "cell_type": "markdown",
   "metadata": {
    "id": "XKzVzEkL3cJp"
   },
   "source": [
    "**Comparación de Coeficientes:**\n",
    "\n",
    "- Analizar cómo cambian los coeficientes con cada método.\n",
    "- Identificar variables que son eliminadas por Lasso.\n",
    "\n",
    "## Paso 5 - Comparación y Conclusiones\n",
    "\n",
    "**Comparación de Métricas:**\n",
    "- Crear una tabla resumen con MSE y $R^2$ de cada modelo.\n",
    "\n",
    "**Análisis de Resultados:**\n",
    "- ¿Cuál modelo tuvo el mejor rendimiento?\n",
    "- ¿Cómo afectó la regularización al sobreajuste?\n",
    "- ¿Se observó mejora al manejar la multicolinealidad?\n",
    "\n",
    "**Conclusiones:**\n",
    "- Reflexionar sobre la importancia de seleccionar y regularizar adecuadamente los modelos.\n",
    "- Discutir limitaciones y posibles mejoras.\n",
    "\n",
    "\n"
   ]
  },
  {
   "cell_type": "markdown",
   "metadata": {
    "id": "ghmfIreS3d2J"
   },
   "source": []
  }
 ],
 "metadata": {
  "colab": {
   "authorship_tag": "ABX9TyNOpusH7HcFdaTqAdKQuxYn",
   "provenance": []
  },
  "kernelspec": {
   "display_name": "ML",
   "language": "python",
   "name": "python3"
  },
  "language_info": {
   "codemirror_mode": {
    "name": "ipython",
    "version": 3
   },
   "file_extension": ".py",
   "mimetype": "text/x-python",
   "name": "python",
   "nbconvert_exporter": "python",
   "pygments_lexer": "ipython3",
   "version": "3.9.23"
  }
 },
 "nbformat": 4,
 "nbformat_minor": 0
}
