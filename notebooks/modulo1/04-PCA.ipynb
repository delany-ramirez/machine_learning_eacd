{
 "cells": [
  {
   "cell_type": "markdown",
   "id": "5b274c12",
   "metadata": {},
   "source": [
    "# Análisis PCA del dataset Wine\n",
    "\n",
    "En este notebook exploraremos cómo usar PCA (Análisis de Componentes Principales) para reducir la dimensionalidad del dataset 'wine' de `sklearn`, que contiene 13 variables numéricas y 3 clases de vinos."
   ]
  },
  {
   "cell_type": "markdown",
   "id": "6455d2e1",
   "metadata": {},
   "source": [
    "## Cargar y escalar los datos\n",
    "Usamos el dataset `wine` de sklearn y aplicamos escalamiento estándar para que PCA funcione adecuadamente."
   ]
  },
  {
   "cell_type": "code",
   "execution_count": null,
   "id": "71c24fce",
   "metadata": {},
   "outputs": [],
   "source": [
    "\n",
    "import numpy as np\n",
    "import matplotlib.pyplot as plt\n",
    "from sklearn.datasets import load_wine\n",
    "from sklearn.decomposition import PCA\n",
    "from sklearn.preprocessing import StandardScaler\n",
    "\n",
    "# Cargar datos\n",
    "data = load_wine()\n",
    "X = data.data\n",
    "y = data.target\n",
    "target_names = data.target_names\n",
    "\n",
    "# Escalamiento\n",
    "scaler = StandardScaler()\n",
    "X_scaled = scaler.fit_transform(X)\n"
   ]
  },
  {
   "cell_type": "markdown",
   "id": "6e76b15a",
   "metadata": {},
   "source": [
    "## Aplicar PCA (2 Componentes)\n",
    "Reducimos a 2 dimensiones para visualizar los datos en un plano 2D."
   ]
  },
  {
   "cell_type": "code",
   "execution_count": null,
   "id": "7c5883d1",
   "metadata": {},
   "outputs": [],
   "source": [
    "\n",
    "# PCA con 2 componentes\n",
    "pca = PCA(n_components=2)\n",
    "X_pca = pca.fit_transform(X_scaled)\n"
   ]
  },
  {
   "cell_type": "markdown",
   "id": "140672b9",
   "metadata": {},
   "source": [
    "## Visualización del espacio reducido\n",
    "Mostramos cómo los datos proyectados en los dos primeros componentes permiten cierta separación de las clases."
   ]
  },
  {
   "cell_type": "code",
   "execution_count": null,
   "id": "08d5bd77",
   "metadata": {},
   "outputs": [],
   "source": [
    "\n",
    "plt.figure(figsize=(8, 6))\n",
    "for target, name in enumerate(target_names):\n",
    "    plt.scatter(X_pca[y == target, 0], X_pca[y == target, 1], label=name, s=30)\n",
    "\n",
    "plt.title(\"Reducción con PCA del dataset Wine (13 → 2 variables)\")\n",
    "plt.xlabel(\"Componente Principal 1\")\n",
    "plt.ylabel(\"Componente Principal 2\")\n",
    "plt.legend()\n",
    "plt.grid(True)\n",
    "plt.tight_layout()\n",
    "plt.show()\n"
   ]
  },
  {
   "cell_type": "markdown",
   "id": "d866dcc2",
   "metadata": {},
   "source": [
    "## Varianza explicada por los componentes principales"
   ]
  },
  {
   "cell_type": "code",
   "execution_count": null,
   "id": "8d5a5588",
   "metadata": {},
   "outputs": [],
   "source": [
    "\n",
    "explained = pca.explained_variance_ratio_\n",
    "print(f\"Varianza explicada por PC1: {explained[0]:.2%}\")\n",
    "print(f\"Varianza explicada por PC2: {explained[1]:.2%}\")\n",
    "print(f\"Varianza total explicada por los dos primeros componentes: {explained[:2].sum():.2%}\")\n"
   ]
  },
  {
   "cell_type": "markdown",
   "id": "031985b7",
   "metadata": {},
   "source": [
    "## Scree Plot\n",
    "Este gráfico muestra cuánta varianza explica cada componente. Permite decidir cuántos componentes conservar."
   ]
  },
  {
   "cell_type": "code",
   "execution_count": null,
   "id": "fefe5138",
   "metadata": {},
   "outputs": [],
   "source": [
    "\n",
    "# PCA completo para Scree plot\n",
    "pca_full = PCA()\n",
    "X_pca_full = pca_full.fit_transform(X_scaled)\n",
    "\n",
    "plt.figure(figsize=(8, 5))\n",
    "plt.plot(np.arange(1, len(pca_full.explained_variance_ratio_) + 1),\n",
    "         pca_full.explained_variance_ratio_, marker='o', linestyle='-')\n",
    "plt.title('Scree Plot - Varianza explicada por componente')\n",
    "plt.xlabel('Número de componente principal')\n",
    "plt.ylabel('Proporción de varianza explicada')\n",
    "plt.xticks(np.arange(1, len(pca_full.explained_variance_ratio_) + 1))\n",
    "plt.grid(True)\n",
    "plt.tight_layout()\n",
    "plt.show()\n"
   ]
  },
  {
   "cell_type": "markdown",
   "id": "f0701d8b",
   "metadata": {},
   "source": [
    "## Matriz de cargas (loading matrix)\n",
    "Esta matriz muestra cómo se combinan las variables originales para formar los componentes principales."
   ]
  },
  {
   "cell_type": "code",
   "execution_count": null,
   "id": "28a4b070",
   "metadata": {},
   "outputs": [],
   "source": [
    "import pandas as pd\n",
    "\n",
    "# Mostrar la matriz de cargas\n",
    "loading_matrix = pd.DataFrame(pca.components_.T,\n",
    "                              columns=['PC1', 'PC2'],\n",
    "                              index=data.feature_names)\n",
    "loading_matrix\n"
   ]
  },
  {
   "cell_type": "markdown",
   "id": "d05927a7",
   "metadata": {},
   "source": [
    "## Varianza explicada acumulada\n",
    "Este gráfico ayuda a identificar cuántos componentes se necesitan para cubrir un porcentaje deseado de varianza (por ejemplo, 90%)."
   ]
  },
  {
   "cell_type": "code",
   "execution_count": null,
   "id": "31ee0b34",
   "metadata": {},
   "outputs": [],
   "source": [
    "\n",
    "# Scree plot acumulado\n",
    "var_exp = pca_full.explained_variance_ratio_\n",
    "cum_var_exp = np.cumsum(var_exp)\n",
    "\n",
    "plt.figure(figsize=(8, 5))\n",
    "plt.plot(np.arange(1, len(cum_var_exp) + 1), cum_var_exp, marker='o', linestyle='-')\n",
    "plt.axhline(y=0.9, color='r', linestyle='--', label='90% de varianza')\n",
    "plt.title('Varianza explicada acumulada')\n",
    "plt.xlabel('Número de componentes principales')\n",
    "plt.ylabel('Varianza acumulada')\n",
    "plt.xticks(np.arange(1, len(cum_var_exp) + 1))\n",
    "plt.legend()\n",
    "plt.grid(True)\n",
    "plt.tight_layout()\n",
    "plt.show()\n"
   ]
  }
 ],
 "metadata": {
  "kernelspec": {
   "display_name": "ML2",
   "language": "python",
   "name": "python3"
  },
  "language_info": {
   "codemirror_mode": {
    "name": "ipython",
    "version": 3
   },
   "file_extension": ".py",
   "mimetype": "text/x-python",
   "name": "python",
   "nbconvert_exporter": "python",
   "pygments_lexer": "ipython3",
   "version": "3.9.20"
  }
 },
 "nbformat": 4,
 "nbformat_minor": 5
}
