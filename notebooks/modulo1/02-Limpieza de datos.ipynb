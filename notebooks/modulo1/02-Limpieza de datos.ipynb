{
 "cells": [
  {
   "cell_type": "markdown",
   "metadata": {
    "id": "nR_v1Gfh8GVn"
   },
   "source": [
    "# Actividad Práctica: Preprocesamiento de Datos con Datasets de Seaborn\n",
    "\n",
    "**Objetivos de la Actividad**\n",
    "\n",
    "- Familiarizarse con la carga y exploración de datasets utilizando seaborn y Pandas.\n",
    "- Aplicar técnicas de limpieza de datos:\n",
    "    - Manejo de valores faltantes.\n",
    "    - Detección y tratamiento de outliers.\n",
    "- Practicar la manipulación y transformación de datos para prepararlos para análisis futuros.\n",
    "\n",
    "**Datasets Disponibles en Seaborn**\n",
    "\n",
    "Seaborn es una librería para visualización estadística que incluye varios datasets integrados que son excelentes para practicar análisis de datos. Algunos de los más populares son:\n",
    "\n",
    "- titanic: Información sobre pasajeros del Titanic.\n",
    "- tips: Datos de propinas en un restaurante.\n",
    "- iris: Medidas de flores Iris.\n",
    "- diamonds: Características y precios de diamantes.\n",
    "- penguins: Medidas de pingüinos de diferentes especies.\n",
    "\n",
    "Para esta actividad, utilizaremos el dataset titanic, ya que contiene una variedad de datos numéricos y categóricos, además de valores faltantes y potenciales outliers.\n",
    "\n",
    "## Parte 1: Carga y Exploración Inicial del Dataset\n",
    "\n",
    "**Paso 1: Importar Librerías Necesarias**\n",
    "\n",
    "\n"
   ]
  },
  {
   "cell_type": "code",
   "execution_count": null,
   "metadata": {
    "id": "JTrswPPV8DCq"
   },
   "outputs": [],
   "source": [
    "import pandas as pd\n",
    "import seaborn as sns\n",
    "import matplotlib.pyplot as plt\n"
   ]
  },
  {
   "cell_type": "markdown",
   "metadata": {
    "id": "aPkDC2IdKDNW"
   },
   "source": [
    "**Paso 2: Cargar el Dataset**\n",
    "\n"
   ]
  },
  {
   "cell_type": "code",
   "execution_count": null,
   "metadata": {
    "id": "lGIKss-JKHJs"
   },
   "outputs": [],
   "source": [
    "# Cargar el dataset 'titanic' de seaborn\n",
    "df = sns.load_dataset('titanic')\n"
   ]
  },
  {
   "cell_type": "markdown",
   "metadata": {
    "id": "iu7VutqgKLOK"
   },
   "source": [
    "**Paso 3: Exploración Básica**\n",
    "\n",
    "Ver las primeras filas del DataFrame\n",
    "\n"
   ]
  },
  {
   "cell_type": "code",
   "execution_count": null,
   "metadata": {
    "id": "Fntt6fLAKPUY"
   },
   "outputs": [],
   "source": [
    "print(df.head())\n"
   ]
  },
  {
   "cell_type": "markdown",
   "metadata": {
    "id": "iIzG0kHxKR8O"
   },
   "source": [
    "Resumen de la información del DataFrame\n",
    "\n"
   ]
  },
  {
   "cell_type": "code",
   "execution_count": null,
   "metadata": {
    "id": "_NQQzJdfKXKj"
   },
   "outputs": [],
   "source": [
    "print(df.info())\n"
   ]
  },
  {
   "cell_type": "markdown",
   "metadata": {
    "id": "1e0ndCUPKXoy"
   },
   "source": [
    "Estadísticas descriptivas\n"
   ]
  },
  {
   "cell_type": "code",
   "execution_count": null,
   "metadata": {
    "id": "YtI-NAhyKX-n"
   },
   "outputs": [],
   "source": [
    "print(df.describe())\n"
   ]
  },
  {
   "cell_type": "markdown",
   "metadata": {
    "id": "S0nxTc9cKYN6"
   },
   "source": [
    "Explicaciones:\n",
    "- `df.head()`: Muestra las primeras 5 filas del DataFrame para tener una idea general de los datos.\n",
    "- `df.info()`: Proporciona información sobre el número de filas, columnas, tipos de datos y valores no nulos.\n",
    "- `df.describe()`: Calcula estadísticas descriptivas para columnas numéricas (media, desviación estándar, mínimos, máximos, etc.).\n",
    "\n",
    "## Parte 2: Manejo de Valores Faltantes\n",
    "\n",
    "**Paso 4: Identificar Valores Faltantes**\n"
   ]
  },
  {
   "cell_type": "code",
   "execution_count": null,
   "metadata": {
    "id": "nGCIw5hyKYjv"
   },
   "outputs": [],
   "source": [
    "# Verificar la cantidad de valores faltantes por columna\n",
    "print(df.isnull().sum())\n"
   ]
  },
  {
   "cell_type": "markdown",
   "metadata": {
    "id": "mfL6Pwq_KZBF"
   },
   "source": [
    "**Paso 5: Visualización de Valores Faltantes**\n"
   ]
  },
  {
   "cell_type": "code",
   "execution_count": null,
   "metadata": {
    "id": "t8bIMtzYKZVz"
   },
   "outputs": [],
   "source": [
    "# Utilizar un mapa de calor para visualizar valores faltantes\n",
    "import seaborn as sns\n",
    "\n",
    "plt.figure(figsize=(10, 6))\n",
    "sns.heatmap(df.isnull(), cbar=False, cmap='viridis')\n",
    "plt.title('Mapa de Valores Faltantes')\n",
    "plt.show()\n"
   ]
  },
  {
   "cell_type": "markdown",
   "metadata": {
    "id": "j_v_S4MRKZjf"
   },
   "source": [
    "**Explicaciones:**\n",
    "\n",
    "- Los valores faltantes pueden afectar el análisis y deben manejarse apropiadamente.\n",
    "- El mapa de calor proporciona una visión rápida de dónde se encuentran los valores faltantes en el conjunto de datos.\n",
    "\n",
    "**Paso 6: Manejo de Valores Faltantes**\n",
    "\n",
    "- Eliminar columnas con muchos valores faltantes\n",
    "\n"
   ]
  },
  {
   "cell_type": "code",
   "execution_count": null,
   "metadata": {
    "id": "NLfylBjWKZ0a"
   },
   "outputs": [],
   "source": [
    "# Por ejemplo, si 'deck' tiene muchos valores faltantes\n",
    "df.drop(columns=['deck'], inplace=True)\n"
   ]
  },
  {
   "cell_type": "code",
   "execution_count": null,
   "metadata": {},
   "outputs": [],
   "source": [
    "df.info()"
   ]
  },
  {
   "cell_type": "markdown",
   "metadata": {
    "id": "wtGxnF-PKaCl"
   },
   "source": [
    "**Imputar valores faltantes**\n",
    "\n",
    "- Para valores numéricos (e.g., 'age')"
   ]
  },
  {
   "cell_type": "code",
   "execution_count": null,
   "metadata": {
    "id": "0JKr_-IQKaXa"
   },
   "outputs": [],
   "source": [
    "# Imputar con la mediana\n",
    "df['age'].fillna(df['age'].median(), inplace=True)"
   ]
  },
  {
   "cell_type": "markdown",
   "metadata": {
    "id": "9m-H2uosKvrj"
   },
   "source": [
    "\n",
    "- Para valores categóricos (e.g., 'embark_town')"
   ]
  },
  {
   "cell_type": "code",
   "execution_count": null,
   "metadata": {
    "id": "lQiFaogFKv6z"
   },
   "outputs": [],
   "source": [
    "# Imputar con la moda\n",
    "df['embark_town'].fillna(df['embark_town'].mode()[0], inplace=True)\n"
   ]
  },
  {
   "cell_type": "markdown",
   "metadata": {
    "id": "rl1v-HJdKxnU"
   },
   "source": [
    "**Paso 7: Verificar Nuevamente los Valores Faltantes**"
   ]
  },
  {
   "cell_type": "code",
   "execution_count": null,
   "metadata": {
    "id": "3JohqA01Kx7w"
   },
   "outputs": [],
   "source": [
    "print(df.isnull().sum())\n"
   ]
  },
  {
   "cell_type": "code",
   "execution_count": null,
   "metadata": {},
   "outputs": [],
   "source": [
    "# Utilizar un mapa de calor para visualizar valores faltantes\n",
    "import seaborn as sns\n",
    "\n",
    "plt.figure(figsize=(10, 6))\n",
    "sns.heatmap(df.isnull(), cbar=False, cmap='viridis')\n",
    "plt.title('Mapa de Valores Faltantes')\n",
    "plt.show()"
   ]
  },
  {
   "cell_type": "markdown",
   "metadata": {
    "id": "mU90FsWWKyIt"
   },
   "source": [
    "**Explicaciones:**\n",
    "\n",
    "- Eliminación vs. Imputación: Decidir entre eliminar o imputar depende de la cantidad de valores faltantes y la importancia de la columna.\n",
    "- Imputación con Mediana o Moda: La mediana es menos sensible a outliers que la media, y la moda es útil para variables categóricas.\n",
    "\n",
    "## Parte 3: Detección y Tratamiento de Outliers\n",
    "\n",
    "**Paso 8: Visualización de Outliers**\n",
    "\n",
    "- Boxplot de la columna 'fare' (tarifa)\n",
    "\n"
   ]
  },
  {
   "cell_type": "code",
   "execution_count": null,
   "metadata": {
    "id": "XBVu7LGyKye4"
   },
   "outputs": [],
   "source": [
    "plt.figure(figsize=(8, 6))\n",
    "sns.boxplot(x=df['fare'])\n",
    "plt.title('Boxplot de Tarifa')\n",
    "plt.show()\n"
   ]
  },
  {
   "cell_type": "markdown",
   "metadata": {
    "id": "n0kAYWH6Kyp6"
   },
   "source": [
    "- Histograma de la columna 'fare'\n",
    "\n"
   ]
  },
  {
   "cell_type": "code",
   "execution_count": null,
   "metadata": {
    "id": "yvc6VdY_Ky9O"
   },
   "outputs": [],
   "source": [
    "plt.figure(figsize=(8, 6))\n",
    "sns.histplot(df['fare'], bins=30, kde=True)\n",
    "plt.title('Histograma de Tarifa')\n",
    "plt.show()\n"
   ]
  },
  {
   "cell_type": "markdown",
   "metadata": {
    "id": "Xf6o01b0KzZO"
   },
   "source": [
    "**Explicaciones:**\n",
    "\n",
    "- Boxplot: Muestra la distribución de los datos y ayuda a identificar valores atípicos.\n",
    "- Histograma: Permite visualizar la distribución de frecuencia de los datos.\n",
    "\n",
    "\n",
    "## Paso 9: Identificar Outliers Numéricamente\n",
    "\n",
    "- Usando el método del rango intercuartílico (IQR)\n",
    "\n"
   ]
  },
  {
   "cell_type": "code",
   "execution_count": null,
   "metadata": {
    "id": "v67JgMUhKzpB"
   },
   "outputs": [],
   "source": [
    "Q1 = df['fare'].quantile(0.25)\n",
    "Q3 = df['fare'].quantile(0.75)\n",
    "IQR = Q3 - Q1\n",
    "limite_inferior = Q1 - 1.5 * IQR\n",
    "limite_superior = Q3 + 1.5 * IQR\n",
    "\n",
    "print(f\"Limite inferior: {limite_inferior}, Limite superior: {limite_superior}\")\n"
   ]
  },
  {
   "cell_type": "markdown",
   "metadata": {
    "id": "joAQyR7xKz2L"
   },
   "source": [
    "**Paso 10: Tratamiento de Outliers**\n",
    "\n",
    "- Opción 1: Eliminar Outliers"
   ]
  },
  {
   "cell_type": "code",
   "execution_count": null,
   "metadata": {
    "id": "7r1Pg2vNK0JX"
   },
   "outputs": [],
   "source": [
    "df_sin_outliers = df[(df['fare'] >= limite_inferior) & (df['fare'] <= limite_superior)]\n",
    "\n",
    "print(df_sin_outliers.shape)"
   ]
  },
  {
   "cell_type": "markdown",
   "metadata": {
    "id": "tctEipR1LJVf"
   },
   "source": [
    "- Opción 2: Transformación Logarítmica"
   ]
  },
  {
   "cell_type": "code",
   "execution_count": null,
   "metadata": {
    "id": "hutNjhfPLJkC"
   },
   "outputs": [],
   "source": [
    "import numpy as np\n",
    "\n",
    "df['fare_log'] = np.log(df['fare'] + 1)  # Se suma 1 para evitar log(0)\n",
    "\n",
    "# Visualizar el histograma después de la transformación\n",
    "plt.figure(figsize=(8, 6))\n",
    "sns.histplot(df['fare_log'], bins=30, kde=True)\n",
    "plt.title('Histograma de Tarifa Transformada')\n",
    "plt.show()\n"
   ]
  },
  {
   "cell_type": "markdown",
   "metadata": {
    "id": "X7vr_2RPLJwN"
   },
   "source": [
    "**Explicaciones:**\n",
    "\n",
    "- Eliminación de Outliers: Puede ser útil, pero podría eliminar datos valiosos si no se tiene cuidado.\n",
    "- Transformación Logarítmica: Reduce la asimetría y el efecto de valores extremos.\n",
    "\n",
    "## Parte 4: Manipulación y Transformación de Datos\n",
    "\n",
    "**Paso 11: Codificación de Variables Categóricas**\n",
    "\n",
    "- Codificación One-Hot (Variables Dummies)\n",
    "\n"
   ]
  },
  {
   "cell_type": "code",
   "execution_count": null,
   "metadata": {
    "id": "NrE4Ahm3LKCJ"
   },
   "outputs": [],
   "source": [
    "df = pd.get_dummies(df, columns=['sex', 'embarked', 'class'], drop_first=True)\n",
    "\n",
    "print(df)\n"
   ]
  },
  {
   "cell_type": "markdown",
   "metadata": {
    "id": "674-rtgGLKM0"
   },
   "source": [
    "- Etiquetado de Variables Ordinales\n",
    "\n"
   ]
  },
  {
   "cell_type": "code",
   "execution_count": null,
   "metadata": {
    "id": "Yky52Ky_LKfY"
   },
   "outputs": [],
   "source": [
    "# Asumiendo que 'pclass' es ordinal (1 = Primera clase, 2 = Segunda clase, 3 = Tercera clase)\n",
    "# Ya está en formato numérico, pero podemos asegurarnos de su tipo\n",
    "df['pclass'] = df['pclass'].astype('category')\n"
   ]
  },
  {
   "cell_type": "markdown",
   "metadata": {
    "id": "lTiUxzVwLKyV"
   },
   "source": [
    "**Explicaciones:**\n",
    "\n",
    "- Variables Dummies: Convierte variables categóricas en variables binarias.\n",
    "- drop_first=True: Evita la trampa de la multicolinealidad al eliminar una de las categorías.\n",
    "\n",
    "**Paso 12: Normalización o Escalado de Variables Numéricas**\n",
    "\n",
    "- Escalado Min-Max\n",
    "\n"
   ]
  },
  {
   "cell_type": "code",
   "execution_count": null,
   "metadata": {
    "id": "ni8VNTfgLLCS"
   },
   "outputs": [],
   "source": [
    "from sklearn.preprocessing import MinMaxScaler\n",
    "\n",
    "scaler_minmax = MinMaxScaler()\n",
    "df[['age_minmax', 'fare_minmax']] = scaler_minmax.fit_transform(df[['age', 'fare']])\n"
   ]
  },
  {
   "cell_type": "markdown",
   "metadata": {
    "id": "v6ISVOQKLLiq"
   },
   "source": [
    "- Estandarización (Media = 0, Desviación Estándar = 1)"
   ]
  },
  {
   "cell_type": "code",
   "execution_count": null,
   "metadata": {
    "id": "oO0TWi3_LL4O"
   },
   "outputs": [],
   "source": [
    "from sklearn.preprocessing import StandardScaler\n",
    "\n",
    "scaler_std = StandardScaler()\n",
    "df[['age_std', 'fare_std']] = scaler_std.fit_transform(df[['age', 'fare']])\n"
   ]
  },
  {
   "cell_type": "markdown",
   "metadata": {},
   "source": [
    "- Guardar el escalador"
   ]
  },
  {
   "cell_type": "code",
   "execution_count": null,
   "metadata": {},
   "outputs": [],
   "source": [
    "import joblib\n",
    "\n",
    "# Guardar el escalador\n",
    "joblib.dump(scaler, 'scaler.pkl')"
   ]
  },
  {
   "cell_type": "markdown",
   "metadata": {},
   "source": [
    "- Cargar el escalador"
   ]
  },
  {
   "cell_type": "code",
   "execution_count": null,
   "metadata": {},
   "outputs": [],
   "source": [
    "# Cargar el escalador\n",
    "scaler = joblib.load('scaler.pkl')\n",
    "\n",
    "# Usarlo en nuevos datos\n",
    "# new_data_scaled = scaler.transform(new_data[['age', 'fare']])\n"
   ]
  },
  {
   "cell_type": "markdown",
   "metadata": {},
   "source": [
    "- Si prefieres usar `pickle` (también funciona):"
   ]
  },
  {
   "cell_type": "code",
   "execution_count": null,
   "metadata": {},
   "outputs": [],
   "source": [
    "import pickle\n",
    "\n",
    "# Guardar\n",
    "with open('scaler.pkl', 'wb') as f:\n",
    "    pickle.dump(scaler, f)\n",
    "\n",
    "# Cargar\n",
    "with open('scaler.pkl', 'rb') as f:\n",
    "    scaler = pickle.load(f)"
   ]
  },
  {
   "cell_type": "markdown",
   "metadata": {
    "id": "Q5xKqUUSLMR9"
   },
   "source": [
    "**Explicaciones:**\n",
    "\n",
    "- Normalización y Estandarización: Importantes para algoritmos sensibles a la escala de los datos, como redes neuronales o KNN.\n",
    "\n",
    "## Parte 5: Guardar el Dataset Limpio\n",
    "\n",
    "**Paso 13: Guardar el DataFrame Procesado**\n"
   ]
  },
  {
   "cell_type": "code",
   "execution_count": null,
   "metadata": {
    "id": "Zh1hVpYRLMia"
   },
   "outputs": [],
   "source": [
    "df.to_csv('titanic_limpio.csv', index=False)\n"
   ]
  },
  {
   "cell_type": "markdown",
   "metadata": {
    "id": "uRg7r6fQLM9_"
   },
   "source": [
    "**Explicaciones:**\n",
    "\n",
    "- Al guardar el DataFrame limpio, se facilita su uso en futuras sesiones o modelos.\n",
    "\n",
    "# Actividad Adicional: Análisis Exploratorio de Datos (EDA)\n",
    "\n",
    "Aunque el enfoque principal es la recolección y limpieza de datos, puedes aprovechar para realizar un breve análisis exploratorio:\n",
    "\n",
    "## Paso 14: Análisis de Supervivencia\n",
    "\n",
    "- Distribución de Supervivientes\n",
    "\n"
   ]
  },
  {
   "cell_type": "code",
   "execution_count": null,
   "metadata": {
    "id": "uZ0TecfNLNQE"
   },
   "outputs": [],
   "source": [
    "plt.figure(figsize=(6, 4))\n",
    "sns.countplot(x='survived', data=df)\n",
    "plt.title('Distribución de Supervivencia')\n",
    "plt.xlabel('Sobrevivió')\n",
    "plt.ylabel('Conteo')\n",
    "plt.show()\n"
   ]
  },
  {
   "cell_type": "markdown",
   "metadata": {
    "id": "JJW6dg8lLNdX"
   },
   "source": [
    "- Supervivencia por Sexo\n",
    "\n"
   ]
  },
  {
   "cell_type": "code",
   "execution_count": null,
   "metadata": {
    "id": "GsOpLvA9LNuO"
   },
   "outputs": [],
   "source": [
    "plt.figure(figsize=(6, 4))\n",
    "sns.barplot(x='sex_male', y='survived', data=df)\n",
    "plt.title('Tasa de Supervivencia por Sexo')\n",
    "plt.xlabel('Sexo (1 = Masculino)')\n",
    "plt.ylabel('Tasa de Supervivencia')\n",
    "plt.show()\n"
   ]
  },
  {
   "cell_type": "markdown",
   "metadata": {
    "id": "R8T9jyk-LOLe"
   },
   "source": [
    "**Explicaciones:**\n",
    "\n",
    "- Análisis Exploratorio: Ayuda a entender mejor los datos y puede revelar patrones interesantes.\n",
    "- Visualizaciones: Son herramientas poderosas para comunicar hallazgos y comprender relaciones entre variables.\n",
    "\n",
    "**Consejos y Buenas Prácticas**\n",
    "\n",
    "- Documenta tu Código: Agrega comentarios y descripciones para facilitar la comprensión.\n",
    "- Verifica tus Operaciones: Después de cada paso, revisa el resultado para asegurarte de que todo funciona como esperas.\n",
    "- Explora por tu Cuenta: Experimenta con otras columnas y técnicas de limpieza."
   ]
  }
 ],
 "metadata": {
  "colab": {
   "authorship_tag": "ABX9TyP47IVpuXiQTlYvU9/0g5Z6",
   "provenance": []
  },
  "kernelspec": {
   "display_name": "ML2",
   "language": "python",
   "name": "python3"
  },
  "language_info": {
   "codemirror_mode": {
    "name": "ipython",
    "version": 3
   },
   "file_extension": ".py",
   "mimetype": "text/x-python",
   "name": "python",
   "nbconvert_exporter": "python",
   "pygments_lexer": "ipython3",
   "version": "3.9.20"
  }
 },
 "nbformat": 4,
 "nbformat_minor": 0
}
