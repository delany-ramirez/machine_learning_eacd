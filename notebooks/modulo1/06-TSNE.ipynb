{
 "cells": [
  {
   "cell_type": "markdown",
   "metadata": {
    "id": "-K0pEiKhh6AZ"
   },
   "source": [
    "# Implementación de t-SNE en Python\n",
    "\n",
    "**Contenido:**\n",
    "\n",
    "- Mostraremos cómo aplicar t-SNE a un conjunto de datos utilizando Scikit-learn.\n",
    "- Visualizaremos los resultados para comprender la estructura de los datos.\n",
    "\n",
    "## Código de Ejemplo - Importación y Preparación de Datos\n"
   ]
  },
  {
   "cell_type": "code",
   "execution_count": null,
   "metadata": {
    "colab": {
     "base_uri": "https://localhost:8080/"
    },
    "executionInfo": {
     "elapsed": 5514,
     "status": "ok",
     "timestamp": 1733500270492,
     "user": {
      "displayName": "Delany Ramirez Del Río",
      "userId": "00157053603326049407"
     },
     "user_tz": 300
    },
    "id": "ouppjZIciAo_",
    "outputId": "a263f023-1a3d-41fa-b4c4-e8ece8772ae9"
   },
   "outputs": [],
   "source": [
    "\n",
    "# Importar librerías necesarias\n",
    "import numpy as np\n",
    "import matplotlib.pyplot as plt\n",
    "from sklearn.datasets import load_digits\n",
    "from sklearn.manifold import TSNE\n"
   ]
  },
  {
   "cell_type": "markdown",
   "metadata": {
    "id": "c1RrUycTiCvP"
   },
   "source": [
    "**Explicación:**\n",
    "- Utilizamos el conjunto de datos de dígitos escritos a mano disponible en Scikit-learn.\n",
    "- Este conjunto de datos es adecuado para t-SNE debido a su alta dimensionalidad (64 características) y múltiples clases (10 dígitos).\n",
    "\n",
    "## Por qué aplicar la t de Student\n",
    "\n",
    "En t-SNE (t-distributed Stochastic Neighbor Embedding), la **distribución t de Student** se utiliza para calcular la matriz de similitud en el **espacio reducido (baja dimensión)** principalmente por dos razones fundamentales:\n",
    "\n",
    "1. Colas más largas que la Gaussiana:\n",
    "\n",
    "- En el espacio original (alta dimensión), las similitudes entre puntos se modelan con una distribución Gaussiana, que tiene colas cortas.\n",
    "- Pero si se usara una Gaussiana también en el espacio reducido, los puntos distantes (que deberían tener similitud baja) no podrían alejarse lo suficiente, y esto causaría un efecto de \"amontonamiento\" (crowding problem).\n",
    "- La distribución t de Student con 1 grado de libertad (equivalente a una Cauchy) tiene colas mucho más largas, permitiendo que los puntos disímiles se separen mejor en el espacio reducido.\n",
    "\n",
    "2. Mejor preservación de relaciones locales:\n",
    "\n",
    "- El objetivo de t-SNE es preservar las relaciones locales: que si dos puntos eran muy similares en el espacio original, también lo sean en el reducido.\n",
    "- La distribución t favorece esta preservación al permitir una fuerte penalización cuando puntos similares se representan como lejanos, pero también permite que puntos no similares estén muy separados sin distorsionar demasiado la función de costo (KL divergencia)."
   ]
  },
  {
   "cell_type": "code",
   "execution_count": null,
   "metadata": {},
   "outputs": [],
   "source": [
    "from scipy.stats import norm, t\n",
    "\n",
    "x = np.linspace(-5, 5, 500)\n",
    "gaussian = norm.pdf(x, loc=0, scale=1)\n",
    "student_t = t.pdf(x, df=1)  # t de Student con 1 grado de libertad (colas largas)\n",
    "\n",
    "plt.plot(x, gaussian, label='Gaussiana', linewidth=2)\n",
    "plt.plot(x, student_t, label='t de Student (df=1)', linewidth=2)\n",
    "plt.title(\"Comparación de distribuciones\")\n",
    "plt.xlabel(\"Distancia\")\n",
    "plt.ylabel(\"Densidad de probabilidad\")\n",
    "plt.legend()\n",
    "plt.grid(True)\n",
    "plt.show()"
   ]
  },
  {
   "cell_type": "markdown",
   "metadata": {},
   "source": [
    "## Comparación de las matrices de similitud"
   ]
  },
  {
   "cell_type": "code",
   "execution_count": null,
   "metadata": {},
   "outputs": [],
   "source": [
    "import numpy as np\n",
    "import matplotlib.pyplot as plt\n",
    "from sklearn.manifold import TSNE\n",
    "from sklearn.metrics.pairwise import pairwise_distances\n",
    "from sklearn.datasets import load_digits\n",
    "from scipy.spatial.distance import pdist, squareform\n",
    "\n",
    "# Cargamos los primeros 100 datos para hacerlo manejable\n",
    "X, y = load_digits(return_X_y=True)\n",
    "X = X[:100]\n",
    "y = y[:100]\n",
    "\n",
    "# Ejecutamos t-SNE\n",
    "tsne = TSNE(n_components=2, perplexity=30, learning_rate=200, max_iter=1000, random_state=42)\n",
    "Y = tsne.fit_transform(X)\n",
    "\n",
    "# --- 1. Matriz de similitud P usando Gaussiana ---\n",
    "def compute_p_matrix(X, perplexity=30.0):\n",
    "    # Distancias al cuadrado\n",
    "    distances = pairwise_distances(X, squared=True)\n",
    "    n = X.shape[0]\n",
    "    P = np.zeros((n, n))\n",
    "    for i in range(n):\n",
    "        beta = 1.0\n",
    "        Di = distances[i, np.arange(n) != i]\n",
    "        H_target = np.log(perplexity)\n",
    "        \n",
    "        # Usamos búsqueda binaria para encontrar beta adecuada\n",
    "        betamin, betamax = None, None\n",
    "        for _ in range(50):\n",
    "            Pi = np.exp(-Di * beta)\n",
    "            Pi = Pi / Pi.sum()\n",
    "            H = -np.sum(Pi * np.log(Pi + 1e-10))\n",
    "            H_diff = H - H_target\n",
    "            if np.abs(H_diff) < 1e-5:\n",
    "                break\n",
    "            if H_diff > 0:\n",
    "                betamin = beta\n",
    "                beta = beta * 2 if betamax is None else (beta + betamax) / 2\n",
    "            else:\n",
    "                betamax = beta\n",
    "                beta = beta / 2 if betamin is None else (beta + betamin) / 2\n",
    "        Pi_full = np.zeros(n)\n",
    "        Pi_full[np.arange(n) != i] = Pi\n",
    "        P[i] = Pi_full\n",
    "    # Simetrizamos\n",
    "    P = (P + P.T) / (2 * n)\n",
    "    return P\n",
    "\n",
    "# --- 2. Matriz de similitud Q usando t de Student ---\n",
    "def compute_q_matrix(Y):\n",
    "    distances = squareform(pdist(Y, 'sqeuclidean'))\n",
    "    Q = 1 / (1 + distances)\n",
    "    np.fill_diagonal(Q, 0)\n",
    "    Q = Q / Q.sum()\n",
    "    return Q\n",
    "\n",
    "# Calculamos P y Q\n",
    "P = compute_p_matrix(X, perplexity=30)\n",
    "Q = compute_q_matrix(Y)\n",
    "\n",
    "# --- 3. Visualización ---\n",
    "fig, axs = plt.subplots(1, 2, figsize=(12, 5))\n",
    "\n",
    "axs[0].imshow(P, cmap='viridis')\n",
    "axs[0].set_title(\"Similitud P (Gaussiana en alta dimensión)\")\n",
    "axs[0].set_xlabel(\"Punto j\")\n",
    "axs[0].set_ylabel(\"Punto i\")\n",
    "\n",
    "axs[1].imshow(Q, cmap='viridis')\n",
    "axs[1].set_title(\"Similitud Q (t de Student en baja dimensión)\")\n",
    "axs[1].set_xlabel(\"Punto j\")\n",
    "axs[1].set_ylabel(\"Punto i\")\n",
    "\n",
    "plt.tight_layout()\n",
    "plt.show()\n"
   ]
  },
  {
   "cell_type": "markdown",
   "metadata": {},
   "source": [
    "## Aplicación de t-SNE"
   ]
  },
  {
   "cell_type": "code",
   "execution_count": null,
   "metadata": {
    "colab": {
     "base_uri": "https://localhost:8080/"
    },
    "executionInfo": {
     "elapsed": 16407,
     "status": "ok",
     "timestamp": 1733500332283,
     "user": {
      "displayName": "Delany Ramirez Del Río",
      "userId": "00157053603326049407"
     },
     "user_tz": 300
    },
    "id": "VhMPUThyh2Rw",
    "outputId": "a62c0a9e-05b2-4055-be11-91bd68766bb7"
   },
   "outputs": [],
   "source": [
    "\n",
    "# Cargar el conjunto de datos\n",
    "digits = load_digits()\n",
    "X = digits.data  # Datos de entrada\n",
    "y = digits.target  # Etiquetas\n",
    "\n",
    "# Mostrar dimensiones de los datos\n",
    "print(f\"Dimensiones de X: {X.shape}\")\n",
    "print(f\"Dimensiones de y: {y.shape}\")\n",
    "\n",
    "# Configurar t-SNE\n",
    "tsne = TSNE(n_components=2, perplexity=30, learning_rate=200, max_iter=1000, random_state=42)\n",
    "\n",
    "# Aplicar t-SNE para reducir la dimensionalidad a 2D\n",
    "X_embedded = tsne.fit_transform(X)\n",
    "\n",
    "# Mostrar dimensiones de los datos transformados\n",
    "print(f\"Dimensiones de X_embedded: {X_embedded.shape}\")\n"
   ]
  },
  {
   "cell_type": "markdown",
   "metadata": {
    "id": "FlwO7FBiiGH2"
   },
   "source": [
    "**Explicación:**\n",
    "- Configuramos t-SNE para reducir los datos a 2 dimensiones.\n",
    "- Establecemos perplexity=30, learning_rate=200 y n_iter=1000 como valores típicos.\n",
    "- Aplicamos fit_transform para obtener los datos en el espacio reducido.\n",
    "\n",
    "## Visualización de los Resultados\n"
   ]
  },
  {
   "cell_type": "code",
   "execution_count": null,
   "metadata": {
    "colab": {
     "base_uri": "https://localhost:8080/",
     "height": 719
    },
    "executionInfo": {
     "elapsed": 1525,
     "status": "ok",
     "timestamp": 1733500451347,
     "user": {
      "displayName": "Delany Ramirez Del Río",
      "userId": "00157053603326049407"
     },
     "user_tz": 300
    },
    "id": "lBjKfFRSiHPP",
    "outputId": "3d250228-25fd-4b08-9d73-8de154e15cdf"
   },
   "outputs": [],
   "source": [
    "# Convert target names to a list of strings\n",
    "labels = [str(label) for label in digits.target_names]\n",
    "\n",
    "# Create the scatter plot\n",
    "plt.figure(figsize=(10, 8))\n",
    "scatter = plt.scatter(X_embedded[:, 0], X_embedded[:, 1], c=y, cmap='tab10', alpha=0.7)\n",
    "\n",
    "# Get handles and labels from the scatter plot\n",
    "handles, _ = scatter.legend_elements()\n",
    "\n",
    "# Use the custom labels\n",
    "plt.legend(handles=handles, labels=labels, title=\"Dígitos\", bbox_to_anchor=(1.05, 1), loc='upper left')\n",
    "\n",
    "# Add titles and labels\n",
    "plt.title('Visualización de Dígitos utilizando t-SNE')\n",
    "plt.xlabel('Componente 1')\n",
    "plt.ylabel('Componente 2')\n",
    "plt.grid(True)\n",
    "plt.show()\n",
    "\n"
   ]
  },
  {
   "cell_type": "markdown",
   "metadata": {
    "id": "8BjkFYEjiI9W"
   },
   "source": [
    "**Explicación:**\n",
    "- Creamos una gráfica de dispersión donde cada punto representa una imagen de un dígito.\n",
    "- Los puntos se colorean según su etiqueta real.\n",
    "- Observamos cómo t-SNE agrupa puntos similares juntos, facilitando la identificación de clusters correspondientes a cada dígito.\n",
    "\n",
    "## Interpretación de la Visualización\n",
    "**Análisis de Resultados:**\n",
    "- Los dígitos similares están agrupados juntos.\n",
    "- Algunos clusters están claramente separados, indicando que t-SNE pudo capturar la estructura de los datos.\n",
    "- Puntos intermedios pueden representar dígitos difíciles de clasificar o con características compartidas."
   ]
  }
 ],
 "metadata": {
  "colab": {
   "authorship_tag": "ABX9TyOC8hmo/t31yyQr2Ij18zr1",
   "provenance": []
  },
  "kernelspec": {
   "display_name": "ML2",
   "language": "python",
   "name": "python3"
  },
  "language_info": {
   "codemirror_mode": {
    "name": "ipython",
    "version": 3
   },
   "file_extension": ".py",
   "mimetype": "text/x-python",
   "name": "python",
   "nbconvert_exporter": "python",
   "pygments_lexer": "ipython3",
   "version": "3.9.20"
  }
 },
 "nbformat": 4,
 "nbformat_minor": 0
}
