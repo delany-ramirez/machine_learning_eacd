{
 "cells": [
  {
   "cell_type": "markdown",
   "id": "efe0da2a",
   "metadata": {},
   "source": [
    "# Taller de Modelado de Riesgo Crediticio (HELOC)\n",
    "Autor: _[Tu Nombre Aquí]_  \n",
    "Fecha: _[Completar]_  \n",
    "\n",
    "Este cuaderno contiene las instrucciones para completar tareas de regresión y clasificación sobre el dataset **Home‑Equity Line of Credit (HELOC)**. Sigue cada sección, agrega tus celdas de código donde se indique **TODO**, y responde las preguntas solicitadas."
   ]
  },
  {
   "cell_type": "markdown",
   "id": "95df09c3",
   "metadata": {},
   "source": [
    "| Aspecto | Detalle |\n",
    "|---------|---------|\n",
    "| **Origen** | Publicado por **FICO®** como parte de su “Explainable Machine Learning Challenge” (2018); disponible en Kaggle y en el repositorio oficial de la competencia. |\n",
    "| **Observaciones** | **10 459** solicitudes de línea de crédito hipotecaria (clientes únicos). |\n",
    "| **Variables** | **24 columnas** en total: 1 objetivo (`RiskPerformance`) + 23 predictoras numéricas y categóricas codificadas como enteros. |\n",
    "| **Variable objetivo** | `RiskPerformance` &rarr; “Good” (0) ó “Bad” (1). “Bad” indica que el cliente incurrió en default, morosidad grave o cierre por cobranza. |\n",
    "| **Variables predictoras clave** | `ExternalRiskEstimate`, `MSinceMostRecentDelq`, `NumTotalTrades`, `PercentTradesNeverDelq`, `NetFractionRevolvingBurden`, entre otras. Representan historiales de crédito, antigüedad de líneas, morosidades y utilización de cupo. |\n",
    "| **Balance de clases** | ~ **74 %** “Good” vs. **26 %** “Bad” (dataset moderadamente desbalanceado). |\n",
    "| **Posibles tareas** | 1) **Clasificación** del riesgo (`RiskPerformance`).<br>2) **Regresión** del score de riesgo (`ExternalRiskEstimate`) o métricas de carga financiera (`NetFraction*`). |\n",
    "| **Licencia / uso** | Datos anonimizados, liberados exclusivamente con fines académicos y de investigación; no incluyen información personal identificable. |"
   ]
  },
  {
   "cell_type": "markdown",
   "id": "43936c36",
   "metadata": {},
   "source": [
    "## Codificación de Faltantes\n",
    "\n",
    "| Value                | Meaning                                                            |\n",
    "| -------------------- | ------------------------------------------------------------------ |\n",
    "| `-9`                 | **No Bureau Record or No Matching Trade** (missing / not reported) |\n",
    "| `-8`                 | No Usable/Valid Trades                                             |\n",
    "| `-7`                 | Condition not met                                                  |\n",
    "| other numeric values | Valid feature values                                               |\n"
   ]
  },
  {
   "cell_type": "markdown",
   "id": "2ed2d33c",
   "metadata": {},
   "source": [
    "## 1. Carga de librerías y datos\n",
    "Ejecuta la celda siguiente para cargar el CSV que ya descargaste (`heloc.csv`). Si lo tienes en otra ruta, ajusta el _path_."
   ]
  },
  {
   "cell_type": "code",
   "execution_count": null,
   "id": "49eb4b01",
   "metadata": {},
   "outputs": [],
   "source": [
    "import pandas as pd\n",
    "import numpy as np\n",
    "\n",
    "# Cargar datos de la carpeta data en la raíz del proyecto\n",
    "df = pd.read_csv('heloc.csv')\n",
    "\n",
    "# Vista preliminar\n",
    "df.head()"
   ]
  }
 ],
 "metadata": {
  "kernelspec": {
   "display_name": "ML2",
   "language": "python",
   "name": "python3"
  },
  "language_info": {
   "codemirror_mode": {
    "name": "ipython",
    "version": 3
   },
   "file_extension": ".py",
   "mimetype": "text/x-python",
   "name": "python",
   "nbconvert_exporter": "python",
   "pygments_lexer": "ipython3",
   "version": "3.9.20"
  }
 },
 "nbformat": 4,
 "nbformat_minor": 5
}
